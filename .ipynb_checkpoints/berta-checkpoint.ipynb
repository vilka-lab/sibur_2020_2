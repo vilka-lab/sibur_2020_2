{
 "cells": [
  {
   "cell_type": "code",
   "execution_count": 1,
   "metadata": {
    "execution": {
     "iopub.execute_input": "2020-12-20T09:51:54.480958Z",
     "iopub.status.busy": "2020-12-20T09:51:54.480285Z",
     "iopub.status.idle": "2020-12-20T09:51:54.489217Z",
     "shell.execute_reply": "2020-12-20T09:51:54.488453Z"
    },
    "papermill": {
     "duration": 0.058923,
     "end_time": "2020-12-20T09:51:54.489362",
     "exception": false,
     "start_time": "2020-12-20T09:51:54.430439",
     "status": "completed"
    },
    "tags": []
   },
   "outputs": [
    {
     "name": "stdout",
     "output_type": "stream",
     "text": [
      "Populating the interactive namespace from numpy and matplotlib\n"
     ]
    }
   ],
   "source": [
    "%pylab inline\n",
    "plt.style.use(\"bmh\")"
   ]
  },
  {
   "cell_type": "code",
   "execution_count": 2,
   "metadata": {
    "execution": {
     "iopub.execute_input": "2020-12-20T09:51:54.583849Z",
     "iopub.status.busy": "2020-12-20T09:51:54.583253Z",
     "iopub.status.idle": "2020-12-20T09:52:06.236993Z",
     "shell.execute_reply": "2020-12-20T09:52:06.235821Z"
    },
    "papermill": {
     "duration": 11.702837,
     "end_time": "2020-12-20T09:52:06.237259",
     "exception": false,
     "start_time": "2020-12-20T09:51:54.534422",
     "status": "completed"
    },
    "tags": []
   },
   "outputs": [],
   "source": [
    "import pathlib\n",
    "import pandas as pd\n",
    "\n",
    "from sklearn.metrics import f1_score\n",
    "from sklearn.model_selection import StratifiedShuffleSplit, train_test_split\n",
    "from sklearn.utils import shuffle\n",
    "from torch.utils.data import Dataset, SubsetRandomSampler\n",
    "\n",
    "import torch\n",
    "from transformers import BertTokenizer, BertModel, BertConfig\n",
    "from transformers import BertForSequenceClassification\n",
    "import matplotlib.pyplot as plt\n",
    "import numpy as np\n",
    "from nltk.stem import PorterStemmer\n",
    "import networkx as nx\n",
    "import seaborn as sns"
   ]
  },
  {
   "cell_type": "code",
   "execution_count": 3,
   "metadata": {
    "execution": {
     "iopub.execute_input": "2020-12-20T09:52:06.330750Z",
     "iopub.status.busy": "2020-12-20T09:52:06.330013Z",
     "iopub.status.idle": "2020-12-20T09:52:17.344806Z",
     "shell.execute_reply": "2020-12-20T09:52:17.343756Z"
    },
    "papermill": {
     "duration": 11.064361,
     "end_time": "2020-12-20T09:52:17.344942",
     "exception": false,
     "start_time": "2020-12-20T09:52:06.280581",
     "status": "completed"
    },
    "tags": []
   },
   "outputs": [],
   "source": [
    "#!pip install cyrtranslit\n",
    "import cyrtranslit\n",
    "import string\n",
    "import random"
   ]
  },
  {
   "cell_type": "code",
   "execution_count": 4,
   "metadata": {
    "execution": {
     "iopub.execute_input": "2020-12-20T09:52:17.444063Z",
     "iopub.status.busy": "2020-12-20T09:52:17.443470Z",
     "iopub.status.idle": "2020-12-20T09:52:17.449587Z",
     "shell.execute_reply": "2020-12-20T09:52:17.450186Z"
    },
    "papermill": {
     "duration": 0.057462,
     "end_time": "2020-12-20T09:52:17.450315",
     "exception": false,
     "start_time": "2020-12-20T09:52:17.392853",
     "status": "completed"
    },
    "tags": []
   },
   "outputs": [
    {
     "name": "stderr",
     "output_type": "stream",
     "text": [
      "/home/ivan/anaconda3/lib/python3.8/site-packages/tqdm/std.py:703: FutureWarning: The Panel class is removed from pandas. Accessing it from the top-level namespace will also be removed in the next version\n",
      "  from pandas import Panel\n"
     ]
    }
   ],
   "source": [
    "from tqdm import tqdm\n",
    "tqdm.pandas()"
   ]
  },
  {
   "cell_type": "code",
   "execution_count": 5,
   "metadata": {
    "execution": {
     "iopub.execute_input": "2020-12-20T09:52:17.551874Z",
     "iopub.status.busy": "2020-12-20T09:52:17.551106Z",
     "iopub.status.idle": "2020-12-20T09:52:17.554437Z",
     "shell.execute_reply": "2020-12-20T09:52:17.554908Z"
    },
    "papermill": {
     "duration": 0.058266,
     "end_time": "2020-12-20T09:52:17.555029",
     "exception": false,
     "start_time": "2020-12-20T09:52:17.496763",
     "status": "completed"
    },
    "tags": []
   },
   "outputs": [
    {
     "data": {
      "text/plain": [
       "True"
      ]
     },
     "execution_count": 5,
     "metadata": {},
     "output_type": "execute_result"
    }
   ],
   "source": [
    "RS = 42\n",
    "np.random.seed(RS)\n",
    "random.seed(RS)\n",
    "device = torch.device('cuda') if torch.cuda.is_available() else torch.device('cpu')\n",
    "#device = torch.device('cpu')\n",
    "torch.cuda.is_available()"
   ]
  },
  {
   "cell_type": "markdown",
   "metadata": {
    "papermill": {
     "duration": 0.046256,
     "end_time": "2020-12-20T09:52:17.648437",
     "exception": false,
     "start_time": "2020-12-20T09:52:17.602181",
     "status": "completed"
    },
    "tags": []
   },
   "source": [
    "# Загрузка данных"
   ]
  },
  {
   "cell_type": "code",
   "execution_count": 6,
   "metadata": {
    "execution": {
     "iopub.execute_input": "2020-12-20T09:52:17.747264Z",
     "iopub.status.busy": "2020-12-20T09:52:17.746410Z",
     "iopub.status.idle": "2020-12-20T09:52:17.748821Z",
     "shell.execute_reply": "2020-12-20T09:52:17.749411Z"
    },
    "papermill": {
     "duration": 0.053063,
     "end_time": "2020-12-20T09:52:17.749521",
     "exception": false,
     "start_time": "2020-12-20T09:52:17.696458",
     "status": "completed"
    },
    "tags": []
   },
   "outputs": [],
   "source": [
    "DATA_DIR = pathlib.Path(\"./\")"
   ]
  },
  {
   "cell_type": "code",
   "execution_count": 7,
   "metadata": {
    "execution": {
     "iopub.execute_input": "2020-12-20T09:52:17.856716Z",
     "iopub.status.busy": "2020-12-20T09:52:17.856082Z",
     "iopub.status.idle": "2020-12-20T09:52:19.037525Z",
     "shell.execute_reply": "2020-12-20T09:52:19.036613Z"
    },
    "papermill": {
     "duration": 1.240703,
     "end_time": "2020-12-20T09:52:19.037647",
     "exception": false,
     "start_time": "2020-12-20T09:52:17.796944",
     "status": "completed"
    },
    "tags": []
   },
   "outputs": [],
   "source": [
    "train = pd.read_csv('train.csv', index_col=\"pair_id\")\n",
    "test = pd.read_csv('test.csv', index_col=\"pair_id\")"
   ]
  },
  {
   "cell_type": "code",
   "execution_count": 8,
   "metadata": {
    "execution": {
     "iopub.execute_input": "2020-12-20T09:52:19.142001Z",
     "iopub.status.busy": "2020-12-20T09:52:19.141433Z",
     "iopub.status.idle": "2020-12-20T09:52:19.151319Z",
     "shell.execute_reply": "2020-12-20T09:52:19.151759Z"
    },
    "papermill": {
     "duration": 0.0664,
     "end_time": "2020-12-20T09:52:19.151881",
     "exception": false,
     "start_time": "2020-12-20T09:52:19.085481",
     "status": "completed"
    },
    "tags": []
   },
   "outputs": [
    {
     "data": {
      "text/html": [
       "<div>\n",
       "<style scoped>\n",
       "    .dataframe tbody tr th:only-of-type {\n",
       "        vertical-align: middle;\n",
       "    }\n",
       "\n",
       "    .dataframe tbody tr th {\n",
       "        vertical-align: top;\n",
       "    }\n",
       "\n",
       "    .dataframe thead th {\n",
       "        text-align: right;\n",
       "    }\n",
       "</style>\n",
       "<table border=\"1\" class=\"dataframe\">\n",
       "  <thead>\n",
       "    <tr style=\"text-align: right;\">\n",
       "      <th></th>\n",
       "      <th>name_1</th>\n",
       "      <th>name_2</th>\n",
       "      <th>is_duplicate</th>\n",
       "    </tr>\n",
       "    <tr>\n",
       "      <th>pair_id</th>\n",
       "      <th></th>\n",
       "      <th></th>\n",
       "      <th></th>\n",
       "    </tr>\n",
       "  </thead>\n",
       "  <tbody>\n",
       "    <tr>\n",
       "      <th>1</th>\n",
       "      <td>Iko Industries Ltd.</td>\n",
       "      <td>Enormous Industrial Trade Pvt., Ltd.</td>\n",
       "      <td>0</td>\n",
       "    </tr>\n",
       "    <tr>\n",
       "      <th>2</th>\n",
       "      <td>Apcotex Industries Ltd.</td>\n",
       "      <td>Technocraft Industries (India) Ltd.</td>\n",
       "      <td>0</td>\n",
       "    </tr>\n",
       "    <tr>\n",
       "      <th>3</th>\n",
       "      <td>Rishichem Distributors Pvt., Ltd.</td>\n",
       "      <td>Dsa</td>\n",
       "      <td>0</td>\n",
       "    </tr>\n",
       "    <tr>\n",
       "      <th>4</th>\n",
       "      <td>Powermax Rubber Factory</td>\n",
       "      <td>Co. One</td>\n",
       "      <td>0</td>\n",
       "    </tr>\n",
       "    <tr>\n",
       "      <th>5</th>\n",
       "      <td>Tress A/S</td>\n",
       "      <td>Longyou Industries Park Zhejiang</td>\n",
       "      <td>0</td>\n",
       "    </tr>\n",
       "  </tbody>\n",
       "</table>\n",
       "</div>"
      ],
      "text/plain": [
       "                                    name_1  \\\n",
       "pair_id                                      \n",
       "1                      Iko Industries Ltd.   \n",
       "2                  Apcotex Industries Ltd.   \n",
       "3        Rishichem Distributors Pvt., Ltd.   \n",
       "4                  Powermax Rubber Factory   \n",
       "5                                Tress A/S   \n",
       "\n",
       "                                       name_2  is_duplicate  \n",
       "pair_id                                                      \n",
       "1        Enormous Industrial Trade Pvt., Ltd.             0  \n",
       "2         Technocraft Industries (India) Ltd.             0  \n",
       "3                                         Dsa             0  \n",
       "4                                     Co. One             0  \n",
       "5            Longyou Industries Park Zhejiang             0  "
      ]
     },
     "execution_count": 8,
     "metadata": {},
     "output_type": "execute_result"
    }
   ],
   "source": [
    "train.head()"
   ]
  },
  {
   "cell_type": "code",
   "execution_count": 9,
   "metadata": {
    "execution": {
     "iopub.execute_input": "2020-12-20T09:52:19.257883Z",
     "iopub.status.busy": "2020-12-20T09:52:19.257024Z",
     "iopub.status.idle": "2020-12-20T09:52:19.261971Z",
     "shell.execute_reply": "2020-12-20T09:52:19.261497Z"
    },
    "papermill": {
     "duration": 0.061057,
     "end_time": "2020-12-20T09:52:19.262071",
     "exception": false,
     "start_time": "2020-12-20T09:52:19.201014",
     "status": "completed"
    },
    "tags": []
   },
   "outputs": [
    {
     "data": {
      "text/html": [
       "<div>\n",
       "<style scoped>\n",
       "    .dataframe tbody tr th:only-of-type {\n",
       "        vertical-align: middle;\n",
       "    }\n",
       "\n",
       "    .dataframe tbody tr th {\n",
       "        vertical-align: top;\n",
       "    }\n",
       "\n",
       "    .dataframe thead th {\n",
       "        text-align: right;\n",
       "    }\n",
       "</style>\n",
       "<table border=\"1\" class=\"dataframe\">\n",
       "  <thead>\n",
       "    <tr style=\"text-align: right;\">\n",
       "      <th></th>\n",
       "      <th>name_1</th>\n",
       "      <th>name_2</th>\n",
       "    </tr>\n",
       "    <tr>\n",
       "      <th>pair_id</th>\n",
       "      <th></th>\n",
       "      <th></th>\n",
       "    </tr>\n",
       "  </thead>\n",
       "  <tbody>\n",
       "    <tr>\n",
       "      <th>1</th>\n",
       "      <td>Sun Blinds Decoration Inc.</td>\n",
       "      <td>Indl De Cuautitlan Sa Cv</td>\n",
       "    </tr>\n",
       "    <tr>\n",
       "      <th>2</th>\n",
       "      <td>Eih Ltd.</td>\n",
       "      <td>Dongguan Wei Shi Plastic Product Co., Ltd.</td>\n",
       "    </tr>\n",
       "    <tr>\n",
       "      <th>3</th>\n",
       "      <td>Jsh Ltd. (Hk)</td>\n",
       "      <td>Arab Shipbuilding And Repair Yard C</td>\n",
       "    </tr>\n",
       "    <tr>\n",
       "      <th>4</th>\n",
       "      <td>Better Industrial Ltd.</td>\n",
       "      <td>Farmacap Industria E Comercio Ltda</td>\n",
       "    </tr>\n",
       "    <tr>\n",
       "      <th>5</th>\n",
       "      <td>Equipos Inoxidables Del Norte Sa De Cv</td>\n",
       "      <td>Bel Inc.</td>\n",
       "    </tr>\n",
       "  </tbody>\n",
       "</table>\n",
       "</div>"
      ],
      "text/plain": [
       "                                         name_1  \\\n",
       "pair_id                                           \n",
       "1                    Sun Blinds Decoration Inc.   \n",
       "2                                      Eih Ltd.   \n",
       "3                                 Jsh Ltd. (Hk)   \n",
       "4                        Better Industrial Ltd.   \n",
       "5        Equipos Inoxidables Del Norte Sa De Cv   \n",
       "\n",
       "                                             name_2  \n",
       "pair_id                                              \n",
       "1                          Indl De Cuautitlan Sa Cv  \n",
       "2        Dongguan Wei Shi Plastic Product Co., Ltd.  \n",
       "3               Arab Shipbuilding And Repair Yard C  \n",
       "4                Farmacap Industria E Comercio Ltda  \n",
       "5                                          Bel Inc.  "
      ]
     },
     "execution_count": 9,
     "metadata": {},
     "output_type": "execute_result"
    }
   ],
   "source": [
    "test.head()"
   ]
  },
  {
   "cell_type": "code",
   "execution_count": 10,
   "metadata": {
    "execution": {
     "iopub.execute_input": "2020-12-20T09:52:19.460809Z",
     "iopub.status.busy": "2020-12-20T09:52:19.459855Z",
     "iopub.status.idle": "2020-12-20T09:52:19.475026Z",
     "shell.execute_reply": "2020-12-20T09:52:19.474512Z"
    },
    "papermill": {
     "duration": 0.163566,
     "end_time": "2020-12-20T09:52:19.475147",
     "exception": false,
     "start_time": "2020-12-20T09:52:19.311581",
     "status": "completed"
    },
    "tags": []
   },
   "outputs": [
    {
     "name": "stdout",
     "output_type": "stream",
     "text": [
      "<class 'pandas.core.frame.DataFrame'>\n",
      "Int64Index: 497819 entries, 1 to 497819\n",
      "Data columns (total 3 columns):\n",
      " #   Column        Non-Null Count   Dtype \n",
      "---  ------        --------------   ----- \n",
      " 0   name_1        497819 non-null  object\n",
      " 1   name_2        497819 non-null  object\n",
      " 2   is_duplicate  497819 non-null  int64 \n",
      "dtypes: int64(1), object(2)\n",
      "memory usage: 15.2+ MB\n"
     ]
    }
   ],
   "source": [
    "train.info()"
   ]
  },
  {
   "cell_type": "code",
   "execution_count": 11,
   "metadata": {
    "execution": {
     "iopub.execute_input": "2020-12-20T09:52:19.620442Z",
     "iopub.status.busy": "2020-12-20T09:52:19.619567Z",
     "iopub.status.idle": "2020-12-20T09:52:19.628266Z",
     "shell.execute_reply": "2020-12-20T09:52:19.627784Z"
    },
    "papermill": {
     "duration": 0.102979,
     "end_time": "2020-12-20T09:52:19.628366",
     "exception": false,
     "start_time": "2020-12-20T09:52:19.525387",
     "status": "completed"
    },
    "tags": []
   },
   "outputs": [
    {
     "name": "stdout",
     "output_type": "stream",
     "text": [
      "<class 'pandas.core.frame.DataFrame'>\n",
      "Int64Index: 213249 entries, 1 to 213249\n",
      "Data columns (total 2 columns):\n",
      " #   Column  Non-Null Count   Dtype \n",
      "---  ------  --------------   ----- \n",
      " 0   name_1  213249 non-null  object\n",
      " 1   name_2  213249 non-null  object\n",
      "dtypes: object(2)\n",
      "memory usage: 4.9+ MB\n"
     ]
    }
   ],
   "source": [
    "test.info()"
   ]
  },
  {
   "cell_type": "markdown",
   "metadata": {
    "papermill": {
     "duration": 0.04915,
     "end_time": "2020-12-20T09:52:19.729598",
     "exception": false,
     "start_time": "2020-12-20T09:52:19.680448",
     "status": "completed"
    },
    "tags": []
   },
   "source": [
    "# Статистика таргета"
   ]
  },
  {
   "cell_type": "code",
   "execution_count": 12,
   "metadata": {
    "execution": {
     "iopub.execute_input": "2020-12-20T09:52:19.857995Z",
     "iopub.status.busy": "2020-12-20T09:52:19.857072Z",
     "iopub.status.idle": "2020-12-20T09:52:19.873506Z",
     "shell.execute_reply": "2020-12-20T09:52:19.874674Z"
    },
    "papermill": {
     "duration": 0.095904,
     "end_time": "2020-12-20T09:52:19.874877",
     "exception": false,
     "start_time": "2020-12-20T09:52:19.778973",
     "status": "completed"
    },
    "tags": []
   },
   "outputs": [
    {
     "data": {
      "text/plain": [
       "0    494161\n",
       "1      3658\n",
       "Name: is_duplicate, dtype: int64"
      ]
     },
     "execution_count": 12,
     "metadata": {},
     "output_type": "execute_result"
    }
   ],
   "source": [
    "train.is_duplicate.value_counts()"
   ]
  },
  {
   "cell_type": "code",
   "execution_count": 13,
   "metadata": {
    "execution": {
     "iopub.execute_input": "2020-12-20T09:52:20.047765Z",
     "iopub.status.busy": "2020-12-20T09:52:20.046879Z",
     "iopub.status.idle": "2020-12-20T09:52:20.091178Z",
     "shell.execute_reply": "2020-12-20T09:52:20.092320Z"
    },
    "papermill": {
     "duration": 0.127876,
     "end_time": "2020-12-20T09:52:20.092587",
     "exception": false,
     "start_time": "2020-12-20T09:52:19.964711",
     "status": "completed"
    },
    "tags": []
   },
   "outputs": [
    {
     "data": {
      "text/html": [
       "<div>\n",
       "<style scoped>\n",
       "    .dataframe tbody tr th:only-of-type {\n",
       "        vertical-align: middle;\n",
       "    }\n",
       "\n",
       "    .dataframe tbody tr th {\n",
       "        vertical-align: top;\n",
       "    }\n",
       "\n",
       "    .dataframe thead th {\n",
       "        text-align: right;\n",
       "    }\n",
       "</style>\n",
       "<table border=\"1\" class=\"dataframe\">\n",
       "  <thead>\n",
       "    <tr style=\"text-align: right;\">\n",
       "      <th></th>\n",
       "      <th>name_1</th>\n",
       "      <th>name_2</th>\n",
       "      <th>is_duplicate</th>\n",
       "    </tr>\n",
       "    <tr>\n",
       "      <th>pair_id</th>\n",
       "      <th></th>\n",
       "      <th></th>\n",
       "      <th></th>\n",
       "    </tr>\n",
       "  </thead>\n",
       "  <tbody>\n",
       "    <tr>\n",
       "      <th>41914</th>\n",
       "      <td>Basf Corporation</td>\n",
       "      <td>Basf (China) Co., Ltd. Shanghai</td>\n",
       "      <td>1</td>\n",
       "    </tr>\n",
       "    <tr>\n",
       "      <th>197034</th>\n",
       "      <td>«ГК Полипласт»</td>\n",
       "      <td>ООО «Полипласт Новомосковск»</td>\n",
       "      <td>1</td>\n",
       "    </tr>\n",
       "    <tr>\n",
       "      <th>32829</th>\n",
       "      <td>Thai Bridgestone Co., Ltd.</td>\n",
       "      <td>Shenyang Bridgestone</td>\n",
       "      <td>1</td>\n",
       "    </tr>\n",
       "    <tr>\n",
       "      <th>158600</th>\n",
       "      <td>Bridgestone De Costa Rica Sociedad Anoni</td>\n",
       "      <td>Bridgestone De Mexico S.A. De C.V.</td>\n",
       "      <td>1</td>\n",
       "    </tr>\n",
       "    <tr>\n",
       "      <th>256576</th>\n",
       "      <td>Ravago Ltd. (Hk)</td>\n",
       "      <td>Ravago Distribution Sa</td>\n",
       "      <td>1</td>\n",
       "    </tr>\n",
       "    <tr>\n",
       "      <th>289303</th>\n",
       "      <td>Reliance Retail Ltd.</td>\n",
       "      <td>Reliance Brands</td>\n",
       "      <td>1</td>\n",
       "    </tr>\n",
       "    <tr>\n",
       "      <th>122345</th>\n",
       "      <td>Contitech Chile S.A.</td>\n",
       "      <td>Contitech Antriebssysteme Gmb H</td>\n",
       "      <td>1</td>\n",
       "    </tr>\n",
       "    <tr>\n",
       "      <th>460037</th>\n",
       "      <td>Basf Construction Chemicals</td>\n",
       "      <td>Basf Co., Ltd.</td>\n",
       "      <td>1</td>\n",
       "    </tr>\n",
       "    <tr>\n",
       "      <th>138727</th>\n",
       "      <td>SOPREMA Polska Sp. z o.o.</td>\n",
       "      <td>Soprema Iberia</td>\n",
       "      <td>1</td>\n",
       "    </tr>\n",
       "    <tr>\n",
       "      <th>23610</th>\n",
       "      <td>Paul Bauder GmbH &amp; Co. KG</td>\n",
       "      <td>PAUL BAUDER GMBH &amp; CO.KG, ACHIM PLANT</td>\n",
       "      <td>1</td>\n",
       "    </tr>\n",
       "    <tr>\n",
       "      <th>41946</th>\n",
       "      <td>Sika (China) Ltd.</td>\n",
       "      <td>Sika Sa</td>\n",
       "      <td>1</td>\n",
       "    </tr>\n",
       "    <tr>\n",
       "      <th>5353</th>\n",
       "      <td>Savino Del Bene Usa Inc.</td>\n",
       "      <td>Savino Del Bene Poland Sp. Z O.O.</td>\n",
       "      <td>1</td>\n",
       "    </tr>\n",
       "    <tr>\n",
       "      <th>46679</th>\n",
       "      <td>Soprema Iberia S.L.</td>\n",
       "      <td>SOPREMA GROBBENDONK</td>\n",
       "      <td>1</td>\n",
       "    </tr>\n",
       "    <tr>\n",
       "      <th>132708</th>\n",
       "      <td>Basf Co., Ltd. Yeosu</td>\n",
       "      <td>Basf Sa</td>\n",
       "      <td>1</td>\n",
       "    </tr>\n",
       "    <tr>\n",
       "      <th>132425</th>\n",
       "      <td>Ashland Inc.</td>\n",
       "      <td>Ashland Specialty Ingredients Gp</td>\n",
       "      <td>1</td>\n",
       "    </tr>\n",
       "  </tbody>\n",
       "</table>\n",
       "</div>"
      ],
      "text/plain": [
       "                                           name_1  \\\n",
       "pair_id                                             \n",
       "41914                            Basf Corporation   \n",
       "197034                            «ГК Полипласт»    \n",
       "32829                  Thai Bridgestone Co., Ltd.   \n",
       "158600   Bridgestone De Costa Rica Sociedad Anoni   \n",
       "256576                           Ravago Ltd. (Hk)   \n",
       "289303                       Reliance Retail Ltd.   \n",
       "122345                       Contitech Chile S.A.   \n",
       "460037                Basf Construction Chemicals   \n",
       "138727                  SOPREMA Polska Sp. z o.o.   \n",
       "23610                   Paul Bauder GmbH & Co. KG   \n",
       "41946                           Sika (China) Ltd.   \n",
       "5353                     Savino Del Bene Usa Inc.   \n",
       "46679                         Soprema Iberia S.L.   \n",
       "132708                       Basf Co., Ltd. Yeosu   \n",
       "132425                               Ashland Inc.   \n",
       "\n",
       "                                        name_2  is_duplicate  \n",
       "pair_id                                                       \n",
       "41914          Basf (China) Co., Ltd. Shanghai             1  \n",
       "197034            ООО «Полипласт Новомосковск»             1  \n",
       "32829                     Shenyang Bridgestone             1  \n",
       "158600      Bridgestone De Mexico S.A. De C.V.             1  \n",
       "256576                  Ravago Distribution Sa             1  \n",
       "289303                         Reliance Brands             1  \n",
       "122345         Contitech Antriebssysteme Gmb H             1  \n",
       "460037                          Basf Co., Ltd.             1  \n",
       "138727                          Soprema Iberia             1  \n",
       "23610    PAUL BAUDER GMBH & CO.KG, ACHIM PLANT             1  \n",
       "41946                                  Sika Sa             1  \n",
       "5353         Savino Del Bene Poland Sp. Z O.O.             1  \n",
       "46679                      SOPREMA GROBBENDONK             1  \n",
       "132708                                 Basf Sa             1  \n",
       "132425        Ashland Specialty Ingredients Gp             1  "
      ]
     },
     "execution_count": 13,
     "metadata": {},
     "output_type": "execute_result"
    }
   ],
   "source": [
    "train[train.is_duplicate==1].sample(15)"
   ]
  },
  {
   "cell_type": "code",
   "execution_count": 14,
   "metadata": {
    "execution": {
     "iopub.execute_input": "2020-12-20T09:52:20.263002Z",
     "iopub.status.busy": "2020-12-20T09:52:20.262196Z",
     "iopub.status.idle": "2020-12-20T09:52:20.333330Z",
     "shell.execute_reply": "2020-12-20T09:52:20.334450Z"
    },
    "papermill": {
     "duration": 0.160507,
     "end_time": "2020-12-20T09:52:20.334659",
     "exception": false,
     "start_time": "2020-12-20T09:52:20.174152",
     "status": "completed"
    },
    "tags": []
   },
   "outputs": [
    {
     "data": {
      "text/html": [
       "<div>\n",
       "<style scoped>\n",
       "    .dataframe tbody tr th:only-of-type {\n",
       "        vertical-align: middle;\n",
       "    }\n",
       "\n",
       "    .dataframe tbody tr th {\n",
       "        vertical-align: top;\n",
       "    }\n",
       "\n",
       "    .dataframe thead th {\n",
       "        text-align: right;\n",
       "    }\n",
       "</style>\n",
       "<table border=\"1\" class=\"dataframe\">\n",
       "  <thead>\n",
       "    <tr style=\"text-align: right;\">\n",
       "      <th></th>\n",
       "      <th>name_1</th>\n",
       "      <th>name_2</th>\n",
       "      <th>is_duplicate</th>\n",
       "    </tr>\n",
       "    <tr>\n",
       "      <th>pair_id</th>\n",
       "      <th></th>\n",
       "      <th></th>\n",
       "      <th></th>\n",
       "    </tr>\n",
       "  </thead>\n",
       "  <tbody>\n",
       "    <tr>\n",
       "      <th>190047</th>\n",
       "      <td>Bin Arif Industries Pvt., Ltd.</td>\n",
       "      <td>Eriks Industries Services Lp</td>\n",
       "      <td>0</td>\n",
       "    </tr>\n",
       "    <tr>\n",
       "      <th>443977</th>\n",
       "      <td>Eiffage SA (ENXTPA:FGR)</td>\n",
       "      <td>Japan Synthetic Rubber Co</td>\n",
       "      <td>0</td>\n",
       "    </tr>\n",
       "    <tr>\n",
       "      <th>269625</th>\n",
       "      <td>Industrial El Sol S.A.C.</td>\n",
       "      <td>Sellos Y Empaques Industriales Sociedad</td>\n",
       "      <td>0</td>\n",
       "    </tr>\n",
       "    <tr>\n",
       "      <th>157622</th>\n",
       "      <td>Almas Carpet (Private) Ltd.</td>\n",
       "      <td>S K Inc.</td>\n",
       "      <td>0</td>\n",
       "    </tr>\n",
       "    <tr>\n",
       "      <th>289680</th>\n",
       "      <td>Anconn Co., Ltd.</td>\n",
       "      <td>Importaciones Exportaciones</td>\n",
       "      <td>0</td>\n",
       "    </tr>\n",
       "    <tr>\n",
       "      <th>330080</th>\n",
       "      <td>Sun Deep Exp.</td>\n",
       "      <td>1 8168912400 Tel Ex 1 816891 76</td>\n",
       "      <td>0</td>\n",
       "    </tr>\n",
       "    <tr>\n",
       "      <th>409241</th>\n",
       "      <td>Master International</td>\n",
       "      <td>Qingdao Jiesen Leather Products Co., Ltd.</td>\n",
       "      <td>0</td>\n",
       "    </tr>\n",
       "    <tr>\n",
       "      <th>462993</th>\n",
       "      <td>Nagda Grasim Industries Ltd.</td>\n",
       "      <td>Quimico Plasticos Industriales</td>\n",
       "      <td>0</td>\n",
       "    </tr>\n",
       "    <tr>\n",
       "      <th>445087</th>\n",
       "      <td>Playpoint Philippines Inc.</td>\n",
       "      <td>Samsung Electronics Philippines Corp</td>\n",
       "      <td>0</td>\n",
       "    </tr>\n",
       "    <tr>\n",
       "      <th>191918</th>\n",
       "      <td>Gulf Building Materials</td>\n",
       "      <td>Shenzhen Hong Business Materials Technology Co...</td>\n",
       "      <td>0</td>\n",
       "    </tr>\n",
       "    <tr>\n",
       "      <th>110562</th>\n",
       "      <td>Eterna S.A.</td>\n",
       "      <td>Masterlat Srl</td>\n",
       "      <td>0</td>\n",
       "    </tr>\n",
       "    <tr>\n",
       "      <th>235907</th>\n",
       "      <td>Ik Plastic Compound Mexico Sa De Cv</td>\n",
       "      <td>A S International</td>\n",
       "      <td>0</td>\n",
       "    </tr>\n",
       "    <tr>\n",
       "      <th>361150</th>\n",
       "      <td>Clopay Building Products Company, Inc.</td>\n",
       "      <td>Suit-Kote Corporation</td>\n",
       "      <td>0</td>\n",
       "    </tr>\n",
       "    <tr>\n",
       "      <th>125166</th>\n",
       "      <td>Qingdao Blp Huahe International Logistic Co., ...</td>\n",
       "      <td>Jiangsu Sunshine International Logistics</td>\n",
       "      <td>0</td>\n",
       "    </tr>\n",
       "    <tr>\n",
       "      <th>91586</th>\n",
       "      <td>Ming Tang (Shanghai) Trading Co., Ltd.</td>\n",
       "      <td>Azan General Trading L.L.C</td>\n",
       "      <td>0</td>\n",
       "    </tr>\n",
       "  </tbody>\n",
       "</table>\n",
       "</div>"
      ],
      "text/plain": [
       "                                                    name_1  \\\n",
       "pair_id                                                      \n",
       "190047                      Bin Arif Industries Pvt., Ltd.   \n",
       "443977                             Eiffage SA (ENXTPA:FGR)   \n",
       "269625                            Industrial El Sol S.A.C.   \n",
       "157622                         Almas Carpet (Private) Ltd.   \n",
       "289680                                    Anconn Co., Ltd.   \n",
       "330080                                       Sun Deep Exp.   \n",
       "409241                                Master International   \n",
       "462993                        Nagda Grasim Industries Ltd.   \n",
       "445087                          Playpoint Philippines Inc.   \n",
       "191918                             Gulf Building Materials   \n",
       "110562                                         Eterna S.A.   \n",
       "235907                 Ik Plastic Compound Mexico Sa De Cv   \n",
       "361150              Clopay Building Products Company, Inc.   \n",
       "125166   Qingdao Blp Huahe International Logistic Co., ...   \n",
       "91586               Ming Tang (Shanghai) Trading Co., Ltd.   \n",
       "\n",
       "                                                    name_2  is_duplicate  \n",
       "pair_id                                                                   \n",
       "190047                        Eriks Industries Services Lp             0  \n",
       "443977                           Japan Synthetic Rubber Co             0  \n",
       "269625             Sellos Y Empaques Industriales Sociedad             0  \n",
       "157622                                            S K Inc.             0  \n",
       "289680                         Importaciones Exportaciones             0  \n",
       "330080                     1 8168912400 Tel Ex 1 816891 76             0  \n",
       "409241           Qingdao Jiesen Leather Products Co., Ltd.             0  \n",
       "462993                      Quimico Plasticos Industriales             0  \n",
       "445087                Samsung Electronics Philippines Corp             0  \n",
       "191918   Shenzhen Hong Business Materials Technology Co...             0  \n",
       "110562                                       Masterlat Srl             0  \n",
       "235907                                   A S International             0  \n",
       "361150                               Suit-Kote Corporation             0  \n",
       "125166            Jiangsu Sunshine International Logistics             0  \n",
       "91586                           Azan General Trading L.L.C             0  "
      ]
     },
     "execution_count": 14,
     "metadata": {},
     "output_type": "execute_result"
    }
   ],
   "source": [
    "train[train.is_duplicate==0].sample(15)"
   ]
  },
  {
   "cell_type": "markdown",
   "metadata": {
    "papermill": {
     "duration": 0.082619,
     "end_time": "2020-12-20T09:52:20.611052",
     "exception": false,
     "start_time": "2020-12-20T09:52:20.528433",
     "status": "completed"
    },
    "tags": []
   },
   "source": [
    "# preprocessing"
   ]
  },
  {
   "cell_type": "code",
   "execution_count": 15,
   "metadata": {
    "execution": {
     "iopub.execute_input": "2020-12-20T09:52:20.783362Z",
     "iopub.status.busy": "2020-12-20T09:52:20.782406Z",
     "iopub.status.idle": "2020-12-20T09:52:20.800716Z",
     "shell.execute_reply": "2020-12-20T09:52:20.801883Z"
    },
    "papermill": {
     "duration": 0.108072,
     "end_time": "2020-12-20T09:52:20.802074",
     "exception": false,
     "start_time": "2020-12-20T09:52:20.694002",
     "status": "completed"
    },
    "tags": []
   },
   "outputs": [],
   "source": [
    "train['name_1_old'] = train['name_1']\n",
    "train['name_2_old'] = train['name_2']\n",
    "\n",
    "test['name_1_old'] = test['name_1']\n",
    "test['name_2_old'] = test['name_2']"
   ]
  },
  {
   "cell_type": "code",
   "execution_count": 16,
   "metadata": {
    "execution": {
     "iopub.execute_input": "2020-12-20T09:52:21.035273Z",
     "iopub.status.busy": "2020-12-20T09:52:21.034310Z",
     "iopub.status.idle": "2020-12-20T09:52:22.063788Z",
     "shell.execute_reply": "2020-12-20T09:52:22.064317Z"
    },
    "papermill": {
     "duration": 1.183205,
     "end_time": "2020-12-20T09:52:22.064473",
     "exception": false,
     "start_time": "2020-12-20T09:52:20.881268",
     "status": "completed"
    },
    "tags": []
   },
   "outputs": [],
   "source": [
    "train[\"name_1\"] = train[\"name_1\"].str.lower()\n",
    "train[\"name_2\"] = train[\"name_2\"].str.lower()\n",
    "\n",
    "test[\"name_1\"] = test[\"name_1\"].str.lower()\n",
    "test[\"name_2\"] = test[\"name_2\"].str.lower()"
   ]
  },
  {
   "cell_type": "code",
   "execution_count": 17,
   "metadata": {
    "execution": {
     "iopub.execute_input": "2020-12-20T09:52:22.178990Z",
     "iopub.status.busy": "2020-12-20T09:52:22.177917Z",
     "iopub.status.idle": "2020-12-20T09:52:31.226481Z",
     "shell.execute_reply": "2020-12-20T09:52:31.227658Z"
    },
    "papermill": {
     "duration": 9.109785,
     "end_time": "2020-12-20T09:52:31.227844",
     "exception": false,
     "start_time": "2020-12-20T09:52:22.118059",
     "status": "completed"
    },
    "tags": []
   },
   "outputs": [],
   "source": [
    "train[\"name_1\"] = train[\"name_1\"].apply(lambda r: cyrtranslit.to_latin(r, 'ru'))\n",
    "train[\"name_2\"] = train[\"name_2\"].apply(lambda r: cyrtranslit.to_latin(r, 'ru'))\n",
    "\n",
    "test[\"name_1\"] = test[\"name_1\"].apply(lambda r: cyrtranslit.to_latin(r, 'ru'))\n",
    "test[\"name_2\"] = test[\"name_2\"].apply(lambda r: cyrtranslit.to_latin(r, 'ru'))"
   ]
  },
  {
   "cell_type": "code",
   "execution_count": 18,
   "metadata": {
    "execution": {
     "iopub.execute_input": "2020-12-20T09:52:31.386385Z",
     "iopub.status.busy": "2020-12-20T09:52:31.385567Z",
     "iopub.status.idle": "2020-12-20T09:52:41.017338Z",
     "shell.execute_reply": "2020-12-20T09:52:41.016343Z"
    },
    "papermill": {
     "duration": 9.714114,
     "end_time": "2020-12-20T09:52:41.017459",
     "exception": false,
     "start_time": "2020-12-20T09:52:31.303345",
     "status": "completed"
    },
    "tags": []
   },
   "outputs": [],
   "source": [
    "#train.replace(re.compile(r\"[^\\w\\s]\"), \"\", inplace=True)\n",
    "#test.replace(re.compile(r\"[^\\w\\s]\"), \"\", inplace=True)"
   ]
  },
  {
   "cell_type": "code",
   "execution_count": 19,
   "metadata": {
    "execution": {
     "iopub.execute_input": "2020-12-20T09:52:41.138101Z",
     "iopub.status.busy": "2020-12-20T09:52:41.137166Z",
     "iopub.status.idle": "2020-12-20T09:55:23.691949Z",
     "shell.execute_reply": "2020-12-20T09:55:23.692492Z"
    },
    "papermill": {
     "duration": 162.620347,
     "end_time": "2020-12-20T09:55:23.692657",
     "exception": false,
     "start_time": "2020-12-20T09:52:41.072310",
     "status": "completed"
    },
    "tags": []
   },
   "outputs": [],
   "source": [
    "#ps = PorterStemmer()\n",
    "#train['name_1'] = train['name_1'].progress_apply(lambda r: ' '.join([ps.stem(x) for x in r.split()]))\n",
    "#train['name_2'] = train['name_2'].progress_apply(lambda r: ' '.join([ps.stem(x) for x in r.split()]))\n",
    "\n",
    "#test['name_1'] = test['name_1'].progress_apply(lambda r: ' '.join([ps.stem(x) for x in r.split()]))\n",
    "#test['name_2'] = test['name_2'].progress_apply(lambda r: ' '.join([ps.stem(x) for x in r.split()]))"
   ]
  },
  {
   "cell_type": "markdown",
   "metadata": {
    "papermill": {
     "duration": 0.600177,
     "end_time": "2020-12-20T09:55:24.897167",
     "exception": false,
     "start_time": "2020-12-20T09:55:24.296990",
     "status": "completed"
    },
    "tags": []
   },
   "source": [
    "### train graph\n",
    "Сформировать граф из трейна, где нодами будут слова, а ребрами - связи между соседними словами. Затем удалить из трейна и теста ноды с числом ребер, больших чем порог."
   ]
  },
  {
   "cell_type": "code",
   "execution_count": 20,
   "metadata": {
    "execution": {
     "iopub.execute_input": "2020-12-20T09:55:26.364033Z",
     "iopub.status.busy": "2020-12-20T09:55:26.363083Z",
     "iopub.status.idle": "2020-12-20T09:55:35.733405Z",
     "shell.execute_reply": "2020-12-20T09:55:35.732559Z"
    },
    "papermill": {
     "duration": 10.229171,
     "end_time": "2020-12-20T09:55:35.733518",
     "exception": false,
     "start_time": "2020-12-20T09:55:25.504347",
     "status": "completed"
    },
    "tags": []
   },
   "outputs": [
    {
     "data": {
      "text/plain": [
       "(34270, 17592)"
      ]
     },
     "execution_count": 20,
     "metadata": {},
     "output_type": "execute_result"
    }
   ],
   "source": [
    "G = nx.Graph()\n",
    "\n",
    "def fill_graph(s):\n",
    "    last_word = ''\n",
    "    for i, word in enumerate(s.split()):\n",
    "        G.add_node(word)\n",
    "        if i > 0:\n",
    "            G.add_edge(word, last_word)\n",
    "        last_word = word\n",
    "        \n",
    "train['name_1'].apply(lambda r: fill_graph(r))\n",
    "train['name_2'].apply(lambda r: fill_graph(r))\n",
    "\n",
    "G.number_of_edges(), G.number_of_nodes()"
   ]
  },
  {
   "cell_type": "code",
   "execution_count": 21,
   "metadata": {
    "execution": {
     "iopub.execute_input": "2020-12-20T09:55:36.944885Z",
     "iopub.status.busy": "2020-12-20T09:55:36.930314Z",
     "iopub.status.idle": "2020-12-20T09:55:36.947983Z",
     "shell.execute_reply": "2020-12-20T09:55:36.948503Z"
    },
    "papermill": {
     "duration": 0.635094,
     "end_time": "2020-12-20T09:55:36.948632",
     "exception": false,
     "start_time": "2020-12-20T09:55:36.313538",
     "status": "completed"
    },
    "tags": []
   },
   "outputs": [
    {
     "data": {
      "text/plain": [
       "17592"
      ]
     },
     "execution_count": 21,
     "metadata": {},
     "output_type": "execute_result"
    }
   ],
   "source": [
    "# Посчитаем, сколько соседей содержат наши слова\n",
    "edges = []\n",
    "for word in G.nodes():\n",
    "    num_edges = len(list(G.adj[word]))\n",
    "    edges.append(num_edges)\n",
    "len(edges)"
   ]
  },
  {
   "cell_type": "code",
   "execution_count": 22,
   "metadata": {
    "execution": {
     "iopub.execute_input": "2020-12-20T09:55:38.297988Z",
     "iopub.status.busy": "2020-12-20T09:55:38.297143Z",
     "iopub.status.idle": "2020-12-20T09:55:38.477908Z",
     "shell.execute_reply": "2020-12-20T09:55:38.478702Z"
    },
    "papermill": {
     "duration": 0.958046,
     "end_time": "2020-12-20T09:55:38.478844",
     "exception": false,
     "start_time": "2020-12-20T09:55:37.520798",
     "status": "completed"
    },
    "tags": []
   },
   "outputs": [
    {
     "data": {
      "text/plain": [
       "<matplotlib.axes._subplots.AxesSubplot at 0x7f28fad5d0d0>"
      ]
     },
     "execution_count": 22,
     "metadata": {},
     "output_type": "execute_result"
    },
    {
     "data": {
      "image/png": "[encoded data removed]",
      "text/plain": [
       "<Figure size 432x288 with 1 Axes>"
      ]
     },
     "metadata": {
      "needs_background": "light"
     },
     "output_type": "display_data"
    }
   ],
   "source": [
    "sns.boxplot(edges)"
   ]
  },
  {
   "cell_type": "markdown",
   "metadata": {
    "papermill": {
     "duration": 0.577568,
     "end_time": "2020-12-20T09:55:39.637875",
     "exception": false,
     "start_time": "2020-12-20T09:55:39.060307",
     "status": "completed"
    },
    "tags": []
   },
   "source": [
    "Посмотрим на список слов, число связей которых больше 200:"
   ]
  },
  {
   "cell_type": "code",
   "execution_count": 23,
   "metadata": {
    "execution": {
     "iopub.execute_input": "2020-12-20T09:55:40.849750Z",
     "iopub.status.busy": "2020-12-20T09:55:40.834495Z",
     "iopub.status.idle": "2020-12-20T09:55:40.861759Z",
     "shell.execute_reply": "2020-12-20T09:55:40.861248Z"
    },
    "papermill": {
     "duration": 0.637253,
     "end_time": "2020-12-20T09:55:40.861856",
     "exception": false,
     "start_time": "2020-12-20T09:55:40.224603",
     "status": "completed"
    },
    "tags": []
   },
   "outputs": [
    {
     "data": {
      "text/plain": [
       "29"
      ]
     },
     "execution_count": 23,
     "metadata": {},
     "output_type": "execute_result"
    }
   ],
   "source": [
    "def find_common_words(threshold=200):\n",
    "    common_words = []\n",
    "    for word in G.nodes():\n",
    "        num_edges = len(list(G.adj[word]))\n",
    "        if num_edges > threshold:\n",
    "            common_words.append(word)\n",
    "    return common_words\n",
    "common_words = find_common_words()\n",
    "len(common_words)"
   ]
  },
  {
   "cell_type": "code",
   "execution_count": 24,
   "metadata": {
    "execution": {
     "iopub.execute_input": "2020-12-20T09:55:42.023297Z",
     "iopub.status.busy": "2020-12-20T09:55:42.022451Z",
     "iopub.status.idle": "2020-12-20T09:55:42.026485Z",
     "shell.execute_reply": "2020-12-20T09:55:42.025877Z"
    },
    "papermill": {
     "duration": 0.586106,
     "end_time": "2020-12-20T09:55:42.026595",
     "exception": false,
     "start_time": "2020-12-20T09:55:41.440489",
     "status": "completed"
    },
    "tags": []
   },
   "outputs": [
    {
     "data": {
      "text/plain": [
       "['industries',\n",
       " 'ltd.',\n",
       " 'pvt.,',\n",
       " 'rubber',\n",
       " 'sa',\n",
       " 'de',\n",
       " 'inc.',\n",
       " 's.a.',\n",
       " 'trading',\n",
       " 'co.,',\n",
       " 'logistics',\n",
       " 'llc',\n",
       " 'shanghai',\n",
       " 'and',\n",
       " 'international',\n",
       " '&',\n",
       " 's',\n",
       " 'industrial',\n",
       " 'india',\n",
       " 'chemical',\n",
       " 'imp.',\n",
       " 'co.',\n",
       " 'plastic',\n",
       " 'products',\n",
       " 'sports',\n",
       " 'corp.',\n",
       " 'group',\n",
       " 'y',\n",
       " 'global']"
      ]
     },
     "execution_count": 24,
     "metadata": {},
     "output_type": "execute_result"
    }
   ],
   "source": [
    "common_words"
   ]
  },
  {
   "cell_type": "markdown",
   "metadata": {
    "papermill": {
     "duration": 0.574094,
     "end_time": "2020-12-20T09:55:43.178720",
     "exception": false,
     "start_time": "2020-12-20T09:55:42.604626",
     "status": "completed"
    },
    "tags": []
   },
   "source": [
    "Посмотрим, как растет число общих слов с ростом порога"
   ]
  },
  {
   "cell_type": "code",
   "execution_count": 25,
   "metadata": {
    "execution": {
     "iopub.execute_input": "2020-12-20T09:55:44.380995Z",
     "iopub.status.busy": "2020-12-20T09:55:44.365728Z",
     "iopub.status.idle": "2020-12-20T09:56:07.297249Z",
     "shell.execute_reply": "2020-12-20T09:56:07.296090Z"
    },
    "papermill": {
     "duration": 23.541458,
     "end_time": "2020-12-20T09:56:07.297379",
     "exception": false,
     "start_time": "2020-12-20T09:55:43.755921",
     "status": "completed"
    },
    "tags": []
   },
   "outputs": [],
   "source": [
    "num_words = []\n",
    "thresholds = np.arange(3, 500)\n",
    "for i in thresholds:\n",
    "    num_words.append(len(find_common_words(i)))"
   ]
  },
  {
   "cell_type": "code",
   "execution_count": 26,
   "metadata": {
    "execution": {
     "iopub.execute_input": "2020-12-20T09:56:08.480239Z",
     "iopub.status.busy": "2020-12-20T09:56:08.479292Z",
     "iopub.status.idle": "2020-12-20T09:56:08.661149Z",
     "shell.execute_reply": "2020-12-20T09:56:08.661658Z"
    },
    "papermill": {
     "duration": 0.771765,
     "end_time": "2020-12-20T09:56:08.661786",
     "exception": false,
     "start_time": "2020-12-20T09:56:07.890021",
     "status": "completed"
    },
    "tags": []
   },
   "outputs": [
    {
     "data": {
      "text/plain": [
       "<matplotlib.axes._subplots.AxesSubplot at 0x7f28fc3f2cd0>"
      ]
     },
     "execution_count": 26,
     "metadata": {},
     "output_type": "execute_result"
    },
    {
     "data": {
      "image/png": "[encoded data removed]",
      "text/plain": [
       "<Figure size 432x288 with 1 Axes>"
      ]
     },
     "metadata": {
      "needs_background": "light"
     },
     "output_type": "display_data"
    }
   ],
   "source": [
    "sns.lineplot(y=num_words, x=thresholds)"
   ]
  },
  {
   "cell_type": "markdown",
   "metadata": {
    "papermill": {
     "duration": 0.579895,
     "end_time": "2020-12-20T09:56:09.862041",
     "exception": false,
     "start_time": "2020-12-20T09:56:09.282146",
     "status": "completed"
    },
    "tags": []
   },
   "source": [
    "Для порога выберем 100 точку на графике."
   ]
  },
  {
   "cell_type": "code",
   "execution_count": 27,
   "metadata": {
    "execution": {
     "iopub.execute_input": "2020-12-20T09:56:11.230926Z",
     "iopub.status.busy": "2020-12-20T09:56:11.229901Z",
     "iopub.status.idle": "2020-12-20T09:56:53.608025Z",
     "shell.execute_reply": "2020-12-20T09:56:53.607360Z"
    },
    "papermill": {
     "duration": 43.151791,
     "end_time": "2020-12-20T09:56:53.608159",
     "exception": false,
     "start_time": "2020-12-20T09:56:10.456368",
     "status": "completed"
    },
    "tags": []
   },
   "outputs": [],
   "source": [
    "HIGH_GRAPH_THRESHOLD = 100\n",
    "\n",
    "def graph_index(s):\n",
    "    counter = 0\n",
    "    for word in s.split():\n",
    "        try:\n",
    "            counter += len(list(G.adj[word]))\n",
    "        except KeyError:\n",
    "            pass\n",
    "    return counter\n",
    "\n",
    "def graph_filter(s):\n",
    "    result = ''\n",
    "    for word in s.split():\n",
    "        idx = graph_index(word) \n",
    "        if idx < HIGH_GRAPH_THRESHOLD:\n",
    "            result += word + ' '\n",
    "    return result.rstrip()\n",
    "\n",
    "#train['name_1'] = train['name_1'].apply(lambda r: graph_filter(r))\n",
    "#train['name_2'] = train['name_2'].apply(lambda r: graph_filter(r))\n",
    "\n",
    "#test['name_1'] = test['name_1'].apply(lambda r: graph_filter(r))\n",
    "#test['name_2'] = test['name_2'].apply(lambda r: graph_filter(r))"
   ]
  },
  {
   "cell_type": "markdown",
   "metadata": {
    "papermill": {
     "duration": 0.721284,
     "end_time": "2020-12-20T09:56:54.909256",
     "exception": false,
     "start_time": "2020-12-20T09:56:54.187972",
     "status": "completed"
    },
    "tags": []
   },
   "source": [
    "Оценим число пар, названия в которых оказались полностью стерты."
   ]
  },
  {
   "cell_type": "code",
   "execution_count": 28,
   "metadata": {
    "execution": {
     "iopub.execute_input": "2020-12-20T09:56:56.733569Z",
     "iopub.status.busy": "2020-12-20T09:56:56.732628Z",
     "iopub.status.idle": "2020-12-20T09:56:57.015906Z",
     "shell.execute_reply": "2020-12-20T09:56:57.016582Z"
    },
    "papermill": {
     "duration": 0.932393,
     "end_time": "2020-12-20T09:56:57.016735",
     "exception": false,
     "start_time": "2020-12-20T09:56:56.084342",
     "status": "completed"
    },
    "tags": []
   },
   "outputs": [
    {
     "data": {
      "text/plain": [
       "(0, 0)"
      ]
     },
     "execution_count": 28,
     "metadata": {},
     "output_type": "execute_result"
    }
   ],
   "source": [
    "len(test[(test['name_1'] == '') | (test['name_2'] == '')]), len(train[(train['name_1'] == '') | (train['name_2'] == '')])"
   ]
  },
  {
   "cell_type": "markdown",
   "metadata": {
    "papermill": {
     "duration": 0.578177,
     "end_time": "2020-12-20T09:56:58.182466",
     "exception": false,
     "start_time": "2020-12-20T09:56:57.604289",
     "status": "completed"
    },
    "tags": []
   },
   "source": [
    "Сколько при этом пострадало положительных классов:"
   ]
  },
  {
   "cell_type": "code",
   "execution_count": 29,
   "metadata": {
    "execution": {
     "iopub.execute_input": "2020-12-20T09:56:59.484568Z",
     "iopub.status.busy": "2020-12-20T09:56:59.483524Z",
     "iopub.status.idle": "2020-12-20T09:56:59.496772Z",
     "shell.execute_reply": "2020-12-20T09:56:59.496252Z"
    },
    "papermill": {
     "duration": 0.737954,
     "end_time": "2020-12-20T09:56:59.496875",
     "exception": false,
     "start_time": "2020-12-20T09:56:58.758921",
     "status": "completed"
    },
    "tags": []
   },
   "outputs": [
    {
     "data": {
      "text/html": [
       "<div>\n",
       "<style scoped>\n",
       "    .dataframe tbody tr th:only-of-type {\n",
       "        vertical-align: middle;\n",
       "    }\n",
       "\n",
       "    .dataframe tbody tr th {\n",
       "        vertical-align: top;\n",
       "    }\n",
       "\n",
       "    .dataframe thead th {\n",
       "        text-align: right;\n",
       "    }\n",
       "</style>\n",
       "<table border=\"1\" class=\"dataframe\">\n",
       "  <thead>\n",
       "    <tr style=\"text-align: right;\">\n",
       "      <th></th>\n",
       "      <th>name_1</th>\n",
       "      <th>name_2</th>\n",
       "      <th>is_duplicate</th>\n",
       "      <th>name_1_old</th>\n",
       "      <th>name_2_old</th>\n",
       "    </tr>\n",
       "    <tr>\n",
       "      <th>pair_id</th>\n",
       "      <th></th>\n",
       "      <th></th>\n",
       "      <th></th>\n",
       "      <th></th>\n",
       "      <th></th>\n",
       "    </tr>\n",
       "  </thead>\n",
       "  <tbody>\n",
       "  </tbody>\n",
       "</table>\n",
       "</div>"
      ],
      "text/plain": [
       "Empty DataFrame\n",
       "Columns: [name_1, name_2, is_duplicate, name_1_old, name_2_old]\n",
       "Index: []"
      ]
     },
     "execution_count": 29,
     "metadata": {},
     "output_type": "execute_result"
    }
   ],
   "source": [
    "train[((train['name_1'] == '') | (train['name_2'] == '')) & (train['is_duplicate'] == 1)]"
   ]
  },
  {
   "cell_type": "markdown",
   "metadata": {
    "papermill": {
     "duration": 0.579352,
     "end_time": "2020-12-20T09:57:00.654700",
     "exception": false,
     "start_time": "2020-12-20T09:57:00.075348",
     "status": "completed"
    },
    "tags": []
   },
   "source": [
    "Чтобы не путать модель, заменим эти лейбы на 0."
   ]
  },
  {
   "cell_type": "code",
   "execution_count": 30,
   "metadata": {
    "execution": {
     "iopub.execute_input": "2020-12-20T09:57:01.955954Z",
     "iopub.status.busy": "2020-12-20T09:57:01.954620Z",
     "iopub.status.idle": "2020-12-20T09:57:01.962203Z",
     "shell.execute_reply": "2020-12-20T09:57:01.961308Z"
    },
    "papermill": {
     "duration": 0.729966,
     "end_time": "2020-12-20T09:57:01.962315",
     "exception": false,
     "start_time": "2020-12-20T09:57:01.232349",
     "status": "completed"
    },
    "tags": []
   },
   "outputs": [],
   "source": [
    "# Меняем 1 на 0\n",
    "#train.loc[(train['name_1'] == '') | (train['name_2'] == ''), 'is_duplicate'] = 0"
   ]
  },
  {
   "cell_type": "markdown",
   "metadata": {
    "papermill": {
     "duration": 0.58111,
     "end_time": "2020-12-20T09:57:04.324285",
     "exception": false,
     "start_time": "2020-12-20T09:57:03.743175",
     "status": "completed"
    },
    "tags": []
   },
   "source": [
    "# Токенизатор"
   ]
  },
  {
   "cell_type": "code",
   "execution_count": 31,
   "metadata": {
    "execution": {
     "iopub.execute_input": "2020-12-20T09:57:05.495012Z",
     "iopub.status.busy": "2020-12-20T09:57:05.494137Z",
     "iopub.status.idle": "2020-12-20T09:57:06.351725Z",
     "shell.execute_reply": "2020-12-20T09:57:06.352267Z"
    },
    "papermill": {
     "duration": 1.444412,
     "end_time": "2020-12-20T09:57:06.352408",
     "exception": false,
     "start_time": "2020-12-20T09:57:04.907996",
     "status": "completed"
    },
    "tags": []
   },
   "outputs": [],
   "source": [
    "tokenizer = BertTokenizer.from_pretrained('bert-base-multilingual-uncased')"
   ]
  },
  {
   "cell_type": "code",
   "execution_count": 32,
   "metadata": {
    "execution": {
     "iopub.execute_input": "2020-12-20T09:57:07.539481Z",
     "iopub.status.busy": "2020-12-20T09:57:07.537588Z",
     "iopub.status.idle": "2020-12-20T09:57:07.540253Z",
     "shell.execute_reply": "2020-12-20T09:57:07.540782Z"
    },
    "papermill": {
     "duration": 0.593972,
     "end_time": "2020-12-20T09:57:07.540926",
     "exception": false,
     "start_time": "2020-12-20T09:57:06.946954",
     "status": "completed"
    },
    "tags": []
   },
   "outputs": [],
   "source": [
    "def tokenize(s):\n",
    "    encoded_dict = tokenizer.encode_plus(s,\n",
    "                                         add_special_tokens=True,\n",
    "                                         max_length=32,\n",
    "                                         pad_to_max_length=True,\n",
    "                                         return_attention_mask=True,\n",
    "                                         return_tensors='pt',\n",
    "                                         truncation=True)\n",
    "    return encoded_dict['input_ids'], encoded_dict['attention_mask']"
   ]
  },
  {
   "cell_type": "markdown",
   "metadata": {},
   "source": [
    "# Аугментации"
   ]
  },
  {
   "cell_type": "code",
   "execution_count": 33,
   "metadata": {},
   "outputs": [],
   "source": [
    "# Удалить случайную букву\n",
    "def random_drop(s):\n",
    "    char = np.random.randint(len(s))\n",
    "    return s[:char] + s[char + 1:]\n",
    "\n",
    "# Заменить случайную букву\n",
    "def random_change(s):\n",
    "    char = np.random.randint(len(s))\n",
    "    return s[:char] + random.choice(string.ascii_lowercase) + s[char + 1:]\n",
    "\n",
    "# Вставить случайный символ\n",
    "def random_insert(s):\n",
    "    char = np.random.randint(len(s))\n",
    "    vocab = string.ascii_lowercase + string.digits + string.punctuation + string.whitespace\n",
    "    return s[:char] + random.choice(vocab) + s[char:]\n",
    "\n",
    "# Перемешать слова\n",
    "def word_shuffle(s):\n",
    "    return ' '.join(shuffle(s.split()))"
   ]
  },
  {
   "cell_type": "code",
   "execution_count": 34,
   "metadata": {},
   "outputs": [],
   "source": [
    "# Обертка для аугментаций\n",
    "def augmentate(augs, s):\n",
    "    for obj in augs:\n",
    "        aug = obj[0]\n",
    "        p = obj[1]\n",
    "        if np.random.random() <= p:\n",
    "            s = aug(s)\n",
    "    return s"
   ]
  },
  {
   "cell_type": "code",
   "execution_count": 35,
   "metadata": {},
   "outputs": [],
   "source": [
    "augs = [(random_drop, 0.3),\n",
    "        (random_change, 0.3),\n",
    "        (random_insert, 0.3),\n",
    "        (word_shuffle, 0.2)]"
   ]
  },
  {
   "cell_type": "code",
   "execution_count": 36,
   "metadata": {},
   "outputs": [
    {
     "data": {
      "text/plain": [
       "\"I'll find you, and i'll kill you!\""
      ]
     },
     "execution_count": 36,
     "metadata": {},
     "output_type": "execute_result"
    }
   ],
   "source": [
    "augmentate(augs, \"I'll find you, and i'll kill you!\")"
   ]
  },
  {
   "cell_type": "markdown",
   "metadata": {
    "papermill": {
     "duration": 0.590558,
     "end_time": "2020-12-20T09:57:11.163052",
     "exception": false,
     "start_time": "2020-12-20T09:57:10.572494",
     "status": "completed"
    },
    "tags": []
   },
   "source": [
    "# Датасет"
   ]
  },
  {
   "cell_type": "code",
   "execution_count": 37,
   "metadata": {
    "execution": {
     "iopub.execute_input": "2020-12-20T09:57:12.353816Z",
     "iopub.status.busy": "2020-12-20T09:57:12.352881Z",
     "iopub.status.idle": "2020-12-20T09:57:12.356947Z",
     "shell.execute_reply": "2020-12-20T09:57:12.356424Z"
    },
    "papermill": {
     "duration": 0.604629,
     "end_time": "2020-12-20T09:57:12.357046",
     "exception": false,
     "start_time": "2020-12-20T09:57:11.752417",
     "status": "completed"
    },
    "tags": []
   },
   "outputs": [],
   "source": [
    "class SiburFullDataset(Dataset):\n",
    "    \"\"\"Тренировочный датасет.\"\"\"\n",
    "    def __init__(self, data, tokenizer=tokenize, augs=None):\n",
    "        self.data = data\n",
    "        self.tokenizer = tokenizer\n",
    "        self.augs = augs\n",
    "        \n",
    "    def __len__(self):\n",
    "        return len(self.data)\n",
    "\n",
    "    def __getitem__(self, idx):\n",
    "        sample = self.data.iloc[idx]\n",
    "        \n",
    "        word_1 = sample['name_1']\n",
    "        word_2 = sample['name_2']\n",
    "        target = sample['is_duplicate']\n",
    "        \n",
    "        if augs is not None:\n",
    "            word_1 = augmentate(self.augs, word_1)\n",
    "            word_2 = augmentate(self.augs, word_2)\n",
    "        \n",
    "        X_1, att_1 = self.tokenizer(word_1)\n",
    "        X_2, att_2 = self.tokenizer(word_2)\n",
    "        target = torch.tensor(target, dtype=torch.float32)\n",
    "        \n",
    "        X = torch.cat([X_1, X_2], axis=1).reshape(-1)\n",
    "        att = torch.cat([att_1, att_2], axis=1).reshape(-1)\n",
    "        token_types = torch.cat([torch.zeros(X_1.shape[1], dtype=torch.long), torch.ones(X_2.shape[1], dtype=torch.long)])\n",
    "        \n",
    "        return X, att, token_types, target"
   ]
  },
  {
   "cell_type": "code",
   "execution_count": 38,
   "metadata": {
    "execution": {
     "iopub.execute_input": "2020-12-20T09:57:13.548571Z",
     "iopub.status.busy": "2020-12-20T09:57:13.547723Z",
     "iopub.status.idle": "2020-12-20T09:57:13.550852Z",
     "shell.execute_reply": "2020-12-20T09:57:13.550356Z"
    },
    "papermill": {
     "duration": 0.6075,
     "end_time": "2020-12-20T09:57:13.550957",
     "exception": false,
     "start_time": "2020-12-20T09:57:12.943457",
     "status": "completed"
    },
    "tags": []
   },
   "outputs": [],
   "source": [
    "class SiburPredictDataset(Dataset):\n",
    "    \"\"\"Датасет для финального предикта.\"\"\"\n",
    "    def __init__(self, data, tokenizer=tokenize):\n",
    "        self.data = data\n",
    "        self.tokenizer = tokenizer\n",
    "        \n",
    "    def __len__(self):\n",
    "        return len(self.data)\n",
    "\n",
    "    def __getitem__(self, idx):\n",
    "        sample = self.data.iloc[idx]\n",
    "        \n",
    "        word_1 = sample['name_1']\n",
    "        word_2 = sample['name_2']\n",
    "        \n",
    "        X_1, att_1 = self.tokenizer(word_1)\n",
    "        X_2, att_2 = self.tokenizer(word_2)\n",
    "        \n",
    "        X = torch.cat([X_1, X_2], axis=1).reshape(-1)\n",
    "        att = torch.cat([att_1, att_2], axis=1).reshape(-1)\n",
    "        token_types = torch.cat([torch.zeros(X_1.shape[1], dtype=torch.long), torch.ones(X_2.shape[1], dtype=torch.long)])\n",
    "        \n",
    "        return X, att, token_types"
   ]
  },
  {
   "cell_type": "code",
   "execution_count": 39,
   "metadata": {
    "execution": {
     "iopub.execute_input": "2020-12-20T09:57:14.735453Z",
     "iopub.status.busy": "2020-12-20T09:57:14.734332Z",
     "iopub.status.idle": "2020-12-20T09:57:15.041434Z",
     "shell.execute_reply": "2020-12-20T09:57:15.040854Z"
    },
    "papermill": {
     "duration": 0.901584,
     "end_time": "2020-12-20T09:57:15.041565",
     "exception": false,
     "start_time": "2020-12-20T09:57:14.139981",
     "status": "completed"
    },
    "tags": []
   },
   "outputs": [],
   "source": [
    "#тренировочная, валидационная выборки\n",
    "split = StratifiedShuffleSplit(1, train_size=0.8, random_state=42)\n",
    "tridx, cvidx = list(split.split(train, train[\"is_duplicate\"]))[0]"
   ]
  },
  {
   "cell_type": "code",
   "execution_count": 40,
   "metadata": {
    "execution": {
     "iopub.execute_input": "2020-12-20T09:57:16.250599Z",
     "iopub.status.busy": "2020-12-20T09:57:16.249709Z",
     "iopub.status.idle": "2020-12-20T09:57:16.386139Z",
     "shell.execute_reply": "2020-12-20T09:57:16.385110Z"
    },
    "papermill": {
     "duration": 0.755925,
     "end_time": "2020-12-20T09:57:16.386260",
     "exception": false,
     "start_time": "2020-12-20T09:57:15.630335",
     "status": "completed"
    },
    "tags": []
   },
   "outputs": [],
   "source": [
    "trdat = train.iloc[tridx]\n",
    "valdat = train.loc[cvidx]"
   ]
  },
  {
   "cell_type": "code",
   "execution_count": 41,
   "metadata": {
    "execution": {
     "iopub.execute_input": "2020-12-20T09:57:17.789733Z",
     "iopub.status.busy": "2020-12-20T09:57:17.788773Z",
     "iopub.status.idle": "2020-12-20T09:57:17.790835Z",
     "shell.execute_reply": "2020-12-20T09:57:17.791354Z"
    },
    "papermill": {
     "duration": 0.707232,
     "end_time": "2020-12-20T09:57:17.791487",
     "exception": false,
     "start_time": "2020-12-20T09:57:17.084255",
     "status": "completed"
    },
    "tags": []
   },
   "outputs": [],
   "source": [
    "#columns = ['name_1', 'name_2']\n",
    "#batch_size=128\n",
    "#ones = trdat.loc[trdat['is_duplicate'] == 1, columns].values\n",
    "#zeros = trdat.loc[trdat['is_duplicate'] == 0, columns].values\n",
    "#train_dataset = SiburDataset(ones, zeros, p=0.5, size=204800, tokenizer=tokenize)\n",
    "#train_loader = torch.utils.data.DataLoader(train_dataset, batch_size=batch_size)"
   ]
  },
  {
   "cell_type": "code",
   "execution_count": 42,
   "metadata": {
    "execution": {
     "iopub.execute_input": "2020-12-20T09:57:18.988922Z",
     "iopub.status.busy": "2020-12-20T09:57:18.987979Z",
     "iopub.status.idle": "2020-12-20T09:57:18.989732Z",
     "shell.execute_reply": "2020-12-20T09:57:18.990283Z"
    },
    "papermill": {
     "duration": 0.613507,
     "end_time": "2020-12-20T09:57:18.990406",
     "exception": false,
     "start_time": "2020-12-20T09:57:18.376899",
     "status": "completed"
    },
    "tags": []
   },
   "outputs": [],
   "source": [
    "#batch_size=128\n",
    "#ones = valdat.loc[valdat['is_duplicate'] == 1, columns].values\n",
    "#zeros = valdat.loc[valdat['is_duplicate'] == 0, columns].values\n",
    "#valid_dataset = SiburDataset(ones, zeros, p=0.01, size=10240, tokenizer=tokenize)\n",
    "#valid_loader = torch.utils.data.DataLoader(valid_dataset, batch_size=batch_size)"
   ]
  },
  {
   "cell_type": "code",
   "execution_count": 43,
   "metadata": {
    "execution": {
     "iopub.execute_input": "2020-12-20T09:57:20.158411Z",
     "iopub.status.busy": "2020-12-20T09:57:20.157423Z",
     "iopub.status.idle": "2020-12-20T09:57:20.160319Z",
     "shell.execute_reply": "2020-12-20T09:57:20.159802Z"
    },
    "papermill": {
     "duration": 0.589353,
     "end_time": "2020-12-20T09:57:20.160423",
     "exception": false,
     "start_time": "2020-12-20T09:57:19.571070",
     "status": "completed"
    },
    "tags": []
   },
   "outputs": [],
   "source": [
    "batch_size = 16\n",
    "train_dataset = SiburFullDataset(trdat, tokenizer=tokenize, augs=augs)\n",
    "train_loader = torch.utils.data.DataLoader(train_dataset, batch_size=batch_size)\n",
    "\n",
    "valid_dataset = SiburFullDataset(valdat, tokenizer=tokenize)\n",
    "valid_loader = torch.utils.data.DataLoader(valid_dataset, batch_size=batch_size)"
   ]
  },
  {
   "cell_type": "code",
   "execution_count": 44,
   "metadata": {
    "execution": {
     "iopub.execute_input": "2020-12-20T09:57:21.679700Z",
     "iopub.status.busy": "2020-12-20T09:57:21.678950Z",
     "iopub.status.idle": "2020-12-20T09:57:21.855858Z",
     "shell.execute_reply": "2020-12-20T09:57:21.854923Z"
    },
    "papermill": {
     "duration": 0.839559,
     "end_time": "2020-12-20T09:57:21.855974",
     "exception": false,
     "start_time": "2020-12-20T09:57:21.016415",
     "status": "completed"
    },
    "tags": []
   },
   "outputs": [
    {
     "name": "stderr",
     "output_type": "stream",
     "text": [
      "/home/ivan/anaconda3/lib/python3.8/site-packages/transformers/tokenization_utils_base.py:2016: FutureWarning: The `pad_to_max_length` argument is deprecated and will be removed in a future version, use `padding=True` or `padding='longest'` to pad to the longest sequence in the batch, or use `padding='max_length'` to pad to a max length. In this case, you can give a specific length with `max_length` (e.g. `max_length=45`) or leave max_length to None to pad to the maximal input size of the model (e.g. 512 for Bert).\n",
      "  warnings.warn(\n"
     ]
    },
    {
     "data": {
      "text/plain": [
       "(torch.Size([16, 64]),\n",
       " torch.Size([16, 64]),\n",
       " torch.Size([16, 64]),\n",
       " torch.Size([16]))"
      ]
     },
     "execution_count": 44,
     "metadata": {},
     "output_type": "execute_result"
    }
   ],
   "source": [
    "# Проверка датасета\n",
    "X, att, token_types, target = next(iter(train_loader))\n",
    "X.shape, att.shape, token_types.shape, target.shape"
   ]
  },
  {
   "cell_type": "markdown",
   "metadata": {
    "papermill": {
     "duration": 0.579031,
     "end_time": "2020-12-20T09:57:23.018365",
     "exception": false,
     "start_time": "2020-12-20T09:57:22.439334",
     "status": "completed"
    },
    "tags": []
   },
   "source": [
    "# Модель"
   ]
  },
  {
   "cell_type": "code",
   "execution_count": 45,
   "metadata": {
    "execution": {
     "iopub.execute_input": "2020-12-20T09:57:24.264454Z",
     "iopub.status.busy": "2020-12-20T09:57:24.242281Z",
     "iopub.status.idle": "2020-12-20T09:57:24.267201Z",
     "shell.execute_reply": "2020-12-20T09:57:24.266682Z"
    },
    "papermill": {
     "duration": 0.644377,
     "end_time": "2020-12-20T09:57:24.267310",
     "exception": false,
     "start_time": "2020-12-20T09:57:23.622933",
     "status": "completed"
    },
    "tags": []
   },
   "outputs": [],
   "source": [
    "class SiburBerta(torch.nn.Module):\n",
    "    \"\"\"Используем мультиязычную Берту в качестве основы, прикручиваем два\n",
    "    линейных слоя на вторую голову.\"\"\"\n",
    "  \n",
    "    def __init__(self, freeze=False):\n",
    "        super(SiburBerta, self).__init__()\n",
    "        \n",
    "        self.backbone = BertModel.from_pretrained('bert-base-multilingual-uncased')\n",
    "\n",
    "        # замораживаем Берту\n",
    "        if freeze:\n",
    "            for param in self.backbone.parameters():\n",
    "                param.requires_grad = False\n",
    "        \n",
    "        self.linear_1 = torch.nn.Linear(in_features=768, out_features=2)\n",
    "        self.softmax = torch.nn.Softmax(dim=1)\n",
    "        # self.relu = torch.nn.ReLU()\n",
    "        # self.flatten = torch.nn.Flatten()\n",
    "        self.dropout = torch.nn.Dropout(0.3)\n",
    "\n",
    "    def forward(self, X_1, att_1, X_2, att_2):\n",
    "        X_1 = self.backbone(X_1, att_1)[1]\n",
    "        X_2 = self.backbone(X_2, att_2)[1]\n",
    "        X_1 = self.dropout(X_1)\n",
    "        X_2 = self.dropout(X_2)\n",
    "\n",
    "        X = torch.abs(X_1 - X_2)\n",
    "       \n",
    "        X = self.linear_1(X)\n",
    "        X_s = self.softmax(X)\n",
    "        \n",
    "        return X, X_s\n",
    "\n",
    "class NNModel():\n",
    "    \n",
    "    def __init__(self, model, metric_func=f1_score, best_model_name='_best_model.pt'):\n",
    "        \"\"\"\n",
    "        model - модель pytorch\n",
    "        metric_func - функция метрики \"больше-лучше\". \n",
    "        best_model_name - название файла для промежуточного сохранения лучшей модели\n",
    "        \"\"\"\n",
    "        self.model = model\n",
    "        self.metric_func = metric_func\n",
    "        self.best_score = 0\n",
    "        self.best_ep = 0\n",
    "        self.best_model_name = best_model_name\n",
    "        self.preds = np.array([])\n",
    "        self.target = np.array([])\n",
    "        self.softmax = softmax = torch.nn.Softmax(dim=1)\n",
    "        \n",
    "    def train(self, epochs, learning_rate, weight_decay, schedule_rate, loss,\n",
    "              train_loader, validation_loader=None, early_stopping=5):\n",
    "        self.optimizer = torch.optim.ASGD(self.model.parameters(), lr=learning_rate,\n",
    "                                          weight_decay=weight_decay)\n",
    "        self.scheduler = torch.optim.lr_scheduler.StepLR(self.optimizer,\n",
    "                                                         step_size=1,\n",
    "                                                         gamma=schedule_rate)\n",
    "        loss_history = []\n",
    "        train_history = []\n",
    "        val_history = []\n",
    "        stop_counter = 0\n",
    "        \n",
    "        for i in range(epochs):\n",
    "            num_ep = i + 1\n",
    "            loss_val, metric = self._train_epoch(train_loader, num_ep, loss)\n",
    "            loss_history.append(loss_val)\n",
    "            train_history.append(metric)\n",
    "            \n",
    "            if validation_loader is not None:\n",
    "                val_metric = self.evaluate(validation_loader, num_ep)\n",
    "                val_history.append(val_metric)\n",
    "                \n",
    "                if val_metric > self.best_score:\n",
    "                    self.save(self.best_model_name)\n",
    "                    self.best_ep = num_ep\n",
    "                    self.best_score = val_metric\n",
    "                    stop_counter = 0\n",
    "                else:\n",
    "                    stop_counter += 1\n",
    "                    \n",
    "                if stop_counter >= early_stopping:\n",
    "                    print('Early stopping on validation score.')\n",
    "                    break\n",
    "                \n",
    "            self.scheduler.step()\n",
    "            \n",
    "        if self.best_score > 0:\n",
    "            self.load(self.best_model_name)\n",
    "            print(f'Best model from {self.best_ep} iteration loaded.')\n",
    "                \n",
    "        return loss_history, train_history, val_history\n",
    " \n",
    "    def _train_epoch(self, train_loader, num_ep, loss):\n",
    "        # self._clear_score()\n",
    "        self.model.train()\n",
    "        losses = []\n",
    "        metrics = []\n",
    "        with tqdm(total=len(train_loader)) as progress_bar:\n",
    "            for X, att, token_types, target in train_loader:\n",
    "                X = X.to(device)\n",
    "                att = att.to(device)\n",
    "                token_types = token_types.to(device)\n",
    "                target = target.to(device)\n",
    "                \n",
    "                preds = self.model(X, att, token_types)[0]\n",
    "                preds = self.softmax(preds)\n",
    "                \n",
    "                loss_val = loss(preds[:, 1], target)\n",
    "                \n",
    "                self.optimizer.zero_grad()\n",
    "                loss_val.backward()\n",
    "                self.optimizer.step()\n",
    "\n",
    "                losses.append(loss_val.item())\n",
    "                metric = self._score(target, preds[:, 1])\n",
    "                metrics.append(metric)\n",
    "\n",
    "                progress_bar.update()\n",
    "                progress_bar.set_description('Epoch {}: {:>5s} loss = {:.5f}, metric = {:.2f}'.format(\n",
    "                                             num_ep, 'train', np.mean(losses),  np.mean(metrics)))\n",
    "                \n",
    "        return np.mean(losses), np.mean(metrics)\n",
    "                \n",
    "    def _score(self, target, preds, threshold=0.5):\n",
    "        preds = preds.cpu().detach().numpy()\n",
    "        target = target.cpu().detach().numpy()\n",
    "                \n",
    "        preds = (preds > threshold).astype(int)\n",
    "        \n",
    "        metric = self.metric_func(target, preds)\n",
    "        \n",
    "        return metric\n",
    "    \n",
    "    def _clear_score(self):\n",
    "        self.preds = np.array([])\n",
    "        self.target = np.array([])\n",
    "    \n",
    "    def evaluate(self, validation_loader, num_ep):\n",
    "        # self._clear_score()\n",
    "        self.model.eval()  \n",
    "        metrics = []\n",
    "\n",
    "        with tqdm(total=len(validation_loader)) as progress_bar:\n",
    "            with torch.no_grad():\n",
    "                for X, att, token_types, target in validation_loader:\n",
    "                    X = X.to(device)\n",
    "                    att = att.to(device)\n",
    "                    token_types = token_types.to(device)\n",
    "                    target = target.to(device)\n",
    "\n",
    "                    preds = self.model(X, att, token_types)[0]\n",
    "                    preds = self.softmax(preds)\n",
    "\n",
    "                    metric = self._score(target, preds[:, 1])\n",
    "                    metrics.append(metric)\n",
    "                \n",
    "                    progress_bar.update()\n",
    "                    progress_bar.set_description('Epoch {}: {:>5s} metric = {:.2f}'.format(\n",
    "                                                 num_ep, 'validation', np.mean(metrics)))\n",
    "                \n",
    "        return np.mean(metrics)\n",
    "    \n",
    "    def predict(self, data_loader):\n",
    "        result = np.array([])\n",
    "        self.model.eval()   \n",
    "                                                 \n",
    "        with tqdm(total=len(data_loader)) as progress_bar:\n",
    "            with torch.no_grad():\n",
    "                for X, att, token_types in data_loader:\n",
    "                    X = X.to(device)\n",
    "                    att = att.to(device)\n",
    "                    token_types = token_types.to(device)\n",
    "\n",
    "                    preds = self.model(X, att, token_types)[0]\n",
    "                    preds = self.softmax(preds)\n",
    "                    preds = preds.cpu().detach().numpy()\n",
    "                    result = np.append(result, preds[:, 1])                             \n",
    "                    \n",
    "                    progress_bar.update()\n",
    "                    progress_bar.set_description('{:>5s}'.format('Prediction'))\n",
    "        return result\n",
    "    \n",
    "    def load(self, path):\n",
    "        self.model.load_state_dict(torch.load(path, map_location=torch.device('cpu')))\n",
    "        return self\n",
    "        \n",
    "    def save(self, path):\n",
    "        torch.save(self.model.state_dict(), path)\n",
    "        return self\n",
    "        \n",
    "    def to(self, device):\n",
    "        self.model.to(device)\n",
    "        return self"
   ]
  },
  {
   "cell_type": "code",
   "execution_count": 46,
   "metadata": {
    "execution": {
     "iopub.execute_input": "2020-12-20T09:57:25.455303Z",
     "iopub.status.busy": "2020-12-20T09:57:25.454641Z",
     "iopub.status.idle": "2020-12-20T09:58:02.262233Z",
     "shell.execute_reply": "2020-12-20T09:58:02.260986Z"
    },
    "papermill": {
     "duration": 37.397208,
     "end_time": "2020-12-20T09:58:02.262375",
     "exception": false,
     "start_time": "2020-12-20T09:57:24.865167",
     "status": "completed"
    },
    "tags": []
   },
   "outputs": [
    {
     "name": "stderr",
     "output_type": "stream",
     "text": [
      "Some weights of the model checkpoint at bert-base-multilingual-uncased were not used when initializing BertForSequenceClassification: ['cls.predictions.bias', 'cls.predictions.transform.dense.weight', 'cls.predictions.transform.dense.bias', 'cls.predictions.decoder.weight', 'cls.seq_relationship.weight', 'cls.seq_relationship.bias', 'cls.predictions.transform.LayerNorm.weight', 'cls.predictions.transform.LayerNorm.bias']\n",
      "- This IS expected if you are initializing BertForSequenceClassification from the checkpoint of a model trained on another task or with another architecture (e.g. initializing a BertForSequenceClassification model from a BertForPreTraining model).\n",
      "- This IS NOT expected if you are initializing BertForSequenceClassification from the checkpoint of a model that you expect to be exactly identical (initializing a BertForSequenceClassification model from a BertForSequenceClassification model).\n",
      "Some weights of BertForSequenceClassification were not initialized from the model checkpoint at bert-base-multilingual-uncased and are newly initialized: ['classifier.weight', 'classifier.bias']\n",
      "You should probably TRAIN this model on a down-stream task to be able to use it for predictions and inference.\n"
     ]
    }
   ],
   "source": [
    "berta = BertForSequenceClassification.from_pretrained('bert-base-multilingual-uncased', num_labels=2).to(device)"
   ]
  },
  {
   "cell_type": "code",
   "execution_count": 47,
   "metadata": {
    "execution": {
     "iopub.execute_input": "2020-12-20T09:58:03.456685Z",
     "iopub.status.busy": "2020-12-20T09:58:03.455223Z",
     "iopub.status.idle": "2020-12-20T09:58:03.457487Z",
     "shell.execute_reply": "2020-12-20T09:58:03.458137Z"
    },
    "papermill": {
     "duration": 0.605091,
     "end_time": "2020-12-20T09:58:03.458266",
     "exception": false,
     "start_time": "2020-12-20T09:58:02.853175",
     "status": "completed"
    },
    "scrolled": true,
    "tags": []
   },
   "outputs": [],
   "source": [
    "model = NNModel(berta)\n",
    "loss = torch.nn.BCELoss()"
   ]
  },
  {
   "cell_type": "code",
   "execution_count": 48,
   "metadata": {
    "execution": {
     "iopub.execute_input": "2020-12-20T09:58:04.709687Z",
     "iopub.status.busy": "2020-12-20T09:58:04.707871Z",
     "iopub.status.idle": "2020-12-20T09:58:11.182440Z",
     "shell.execute_reply": "2020-12-20T09:58:11.182897Z"
    },
    "papermill": {
     "duration": 7.136198,
     "end_time": "2020-12-20T09:58:11.183046",
     "exception": false,
     "start_time": "2020-12-20T09:58:04.046848",
     "status": "completed"
    },
    "tags": []
   },
   "outputs": [
    {
     "data": {
      "text/plain": [
       "<__main__.NNModel at 0x7f28fba6abb0>"
      ]
     },
     "execution_count": 48,
     "metadata": {},
     "output_type": "execute_result"
    }
   ],
   "source": [
    "model.load('_best_model.pt')"
   ]
  },
  {
   "cell_type": "code",
   "execution_count": 49,
   "metadata": {
    "execution": {
     "iopub.execute_input": "2020-12-20T09:58:12.592770Z",
     "iopub.status.busy": "2020-12-20T09:58:12.591424Z",
     "iopub.status.idle": "2020-12-20T17:59:47.411229Z",
     "shell.execute_reply": "2020-12-20T17:59:47.411976Z"
    },
    "papermill": {
     "duration": 28895.637567,
     "end_time": "2020-12-20T17:59:47.412150",
     "exception": false,
     "start_time": "2020-12-20T09:58:11.774583",
     "status": "completed"
    },
    "tags": []
   },
   "outputs": [
    {
     "name": "stderr",
     "output_type": "stream",
     "text": [
      "  0%|          | 0/24891 [00:00<?, ?it/s]/home/ivan/anaconda3/lib/python3.8/site-packages/sklearn/metrics/_classification.py:1464: UndefinedMetricWarning: F-score is ill-defined and being set to 0.0 due to no true nor predicted samples. Use `zero_division` parameter to control this behavior.\n",
      "  _warn_prf(\n",
      "Epoch 1: train loss = 0.01361, metric = 0.07:  61%|██████    | 15160/24891 [1:41:22<1:05:04,  2.49it/s]\n"
     ]
    },
    {
     "ename": "KeyboardInterrupt",
     "evalue": "",
     "output_type": "error",
     "traceback": [
      "\u001b[0;31m---------------------------------------------------------------------------\u001b[0m",
      "\u001b[0;31mKeyboardInterrupt\u001b[0m                         Traceback (most recent call last)",
      "\u001b[0;32m<ipython-input-49-7402b9ae0a2a>\u001b[0m in \u001b[0;36m<module>\u001b[0;34m\u001b[0m\n\u001b[0;32m----> 1\u001b[0;31m loss_history, train_history, val_history = model.train(epochs=5, learning_rate=1e-3, weight_decay=1e-3,\n\u001b[0m\u001b[1;32m      2\u001b[0m                                                        \u001b[0mschedule_rate\u001b[0m\u001b[0;34m=\u001b[0m\u001b[0;36m0.95\u001b[0m\u001b[0;34m,\u001b[0m \u001b[0mloss\u001b[0m\u001b[0;34m=\u001b[0m\u001b[0mloss\u001b[0m\u001b[0;34m,\u001b[0m\u001b[0;34m\u001b[0m\u001b[0;34m\u001b[0m\u001b[0m\n\u001b[1;32m      3\u001b[0m                                                        \u001b[0mtrain_loader\u001b[0m\u001b[0;34m=\u001b[0m\u001b[0mtrain_loader\u001b[0m\u001b[0;34m,\u001b[0m\u001b[0;34m\u001b[0m\u001b[0;34m\u001b[0m\u001b[0m\n\u001b[1;32m      4\u001b[0m                                                        validation_loader=valid_loader, early_stopping=3)\n",
      "\u001b[0;32m<ipython-input-45-7bb1c42666b7>\u001b[0m in \u001b[0;36mtrain\u001b[0;34m(self, epochs, learning_rate, weight_decay, schedule_rate, loss, train_loader, validation_loader, early_stopping)\u001b[0m\n\u001b[1;32m     63\u001b[0m         \u001b[0;32mfor\u001b[0m \u001b[0mi\u001b[0m \u001b[0;32min\u001b[0m \u001b[0mrange\u001b[0m\u001b[0;34m(\u001b[0m\u001b[0mepochs\u001b[0m\u001b[0;34m)\u001b[0m\u001b[0;34m:\u001b[0m\u001b[0;34m\u001b[0m\u001b[0;34m\u001b[0m\u001b[0m\n\u001b[1;32m     64\u001b[0m             \u001b[0mnum_ep\u001b[0m \u001b[0;34m=\u001b[0m \u001b[0mi\u001b[0m \u001b[0;34m+\u001b[0m \u001b[0;36m1\u001b[0m\u001b[0;34m\u001b[0m\u001b[0;34m\u001b[0m\u001b[0m\n\u001b[0;32m---> 65\u001b[0;31m             \u001b[0mloss_val\u001b[0m\u001b[0;34m,\u001b[0m \u001b[0mmetric\u001b[0m \u001b[0;34m=\u001b[0m \u001b[0mself\u001b[0m\u001b[0;34m.\u001b[0m\u001b[0m_train_epoch\u001b[0m\u001b[0;34m(\u001b[0m\u001b[0mtrain_loader\u001b[0m\u001b[0;34m,\u001b[0m \u001b[0mnum_ep\u001b[0m\u001b[0;34m,\u001b[0m \u001b[0mloss\u001b[0m\u001b[0;34m)\u001b[0m\u001b[0;34m\u001b[0m\u001b[0;34m\u001b[0m\u001b[0m\n\u001b[0m\u001b[1;32m     66\u001b[0m             \u001b[0mloss_history\u001b[0m\u001b[0;34m.\u001b[0m\u001b[0mappend\u001b[0m\u001b[0;34m(\u001b[0m\u001b[0mloss_val\u001b[0m\u001b[0;34m)\u001b[0m\u001b[0;34m\u001b[0m\u001b[0;34m\u001b[0m\u001b[0m\n\u001b[1;32m     67\u001b[0m             \u001b[0mtrain_history\u001b[0m\u001b[0;34m.\u001b[0m\u001b[0mappend\u001b[0m\u001b[0;34m(\u001b[0m\u001b[0mmetric\u001b[0m\u001b[0;34m)\u001b[0m\u001b[0;34m\u001b[0m\u001b[0;34m\u001b[0m\u001b[0m\n",
      "\u001b[0;32m<ipython-input-45-7bb1c42666b7>\u001b[0m in \u001b[0;36m_train_epoch\u001b[0;34m(self, train_loader, num_ep, loss)\u001b[0m\n\u001b[1;32m    109\u001b[0m \u001b[0;34m\u001b[0m\u001b[0m\n\u001b[1;32m    110\u001b[0m                 \u001b[0mself\u001b[0m\u001b[0;34m.\u001b[0m\u001b[0moptimizer\u001b[0m\u001b[0;34m.\u001b[0m\u001b[0mzero_grad\u001b[0m\u001b[0;34m(\u001b[0m\u001b[0;34m)\u001b[0m\u001b[0;34m\u001b[0m\u001b[0;34m\u001b[0m\u001b[0m\n\u001b[0;32m--> 111\u001b[0;31m                 \u001b[0mloss_val\u001b[0m\u001b[0;34m.\u001b[0m\u001b[0mbackward\u001b[0m\u001b[0;34m(\u001b[0m\u001b[0;34m)\u001b[0m\u001b[0;34m\u001b[0m\u001b[0;34m\u001b[0m\u001b[0m\n\u001b[0m\u001b[1;32m    112\u001b[0m                 \u001b[0mself\u001b[0m\u001b[0;34m.\u001b[0m\u001b[0moptimizer\u001b[0m\u001b[0;34m.\u001b[0m\u001b[0mstep\u001b[0m\u001b[0;34m(\u001b[0m\u001b[0;34m)\u001b[0m\u001b[0;34m\u001b[0m\u001b[0;34m\u001b[0m\u001b[0m\n\u001b[1;32m    113\u001b[0m \u001b[0;34m\u001b[0m\u001b[0m\n",
      "\u001b[0;32m~/anaconda3/lib/python3.8/site-packages/torch/tensor.py\u001b[0m in \u001b[0;36mbackward\u001b[0;34m(self, gradient, retain_graph, create_graph)\u001b[0m\n\u001b[1;32m    183\u001b[0m                 \u001b[0mproducts\u001b[0m\u001b[0;34m.\u001b[0m \u001b[0mDefaults\u001b[0m \u001b[0mto\u001b[0m\u001b[0;31m \u001b[0m\u001b[0;31m`\u001b[0m\u001b[0;31m`\u001b[0m\u001b[0;32mFalse\u001b[0m\u001b[0;31m`\u001b[0m\u001b[0;31m`\u001b[0m\u001b[0;34m.\u001b[0m\u001b[0;34m\u001b[0m\u001b[0;34m\u001b[0m\u001b[0m\n\u001b[1;32m    184\u001b[0m         \"\"\"\n\u001b[0;32m--> 185\u001b[0;31m         \u001b[0mtorch\u001b[0m\u001b[0;34m.\u001b[0m\u001b[0mautograd\u001b[0m\u001b[0;34m.\u001b[0m\u001b[0mbackward\u001b[0m\u001b[0;34m(\u001b[0m\u001b[0mself\u001b[0m\u001b[0;34m,\u001b[0m \u001b[0mgradient\u001b[0m\u001b[0;34m,\u001b[0m \u001b[0mretain_graph\u001b[0m\u001b[0;34m,\u001b[0m \u001b[0mcreate_graph\u001b[0m\u001b[0;34m)\u001b[0m\u001b[0;34m\u001b[0m\u001b[0;34m\u001b[0m\u001b[0m\n\u001b[0m\u001b[1;32m    186\u001b[0m \u001b[0;34m\u001b[0m\u001b[0m\n\u001b[1;32m    187\u001b[0m     \u001b[0;32mdef\u001b[0m \u001b[0mregister_hook\u001b[0m\u001b[0;34m(\u001b[0m\u001b[0mself\u001b[0m\u001b[0;34m,\u001b[0m \u001b[0mhook\u001b[0m\u001b[0;34m)\u001b[0m\u001b[0;34m:\u001b[0m\u001b[0;34m\u001b[0m\u001b[0;34m\u001b[0m\u001b[0m\n",
      "\u001b[0;32m~/anaconda3/lib/python3.8/site-packages/torch/autograd/__init__.py\u001b[0m in \u001b[0;36mbackward\u001b[0;34m(tensors, grad_tensors, retain_graph, create_graph, grad_variables)\u001b[0m\n\u001b[1;32m    123\u001b[0m         \u001b[0mretain_graph\u001b[0m \u001b[0;34m=\u001b[0m \u001b[0mcreate_graph\u001b[0m\u001b[0;34m\u001b[0m\u001b[0;34m\u001b[0m\u001b[0m\n\u001b[1;32m    124\u001b[0m \u001b[0;34m\u001b[0m\u001b[0m\n\u001b[0;32m--> 125\u001b[0;31m     Variable._execution_engine.run_backward(\n\u001b[0m\u001b[1;32m    126\u001b[0m         \u001b[0mtensors\u001b[0m\u001b[0;34m,\u001b[0m \u001b[0mgrad_tensors\u001b[0m\u001b[0;34m,\u001b[0m \u001b[0mretain_graph\u001b[0m\u001b[0;34m,\u001b[0m \u001b[0mcreate_graph\u001b[0m\u001b[0;34m,\u001b[0m\u001b[0;34m\u001b[0m\u001b[0;34m\u001b[0m\u001b[0m\n\u001b[1;32m    127\u001b[0m         allow_unreachable=True)  # allow_unreachable flag\n",
      "\u001b[0;31mKeyboardInterrupt\u001b[0m: "
     ]
    }
   ],
   "source": [
    "loss_history, train_history, val_history = model.train(epochs=5, learning_rate=1e-3, weight_decay=1e-3,\n",
    "                                                       schedule_rate=0.95, loss=loss, \n",
    "                                                       train_loader=train_loader,\n",
    "                                                       validation_loader=valid_loader, early_stopping=3)"
   ]
  },
  {
   "cell_type": "code",
   "execution_count": null,
   "metadata": {
    "execution": {
     "iopub.execute_input": "2020-12-20T18:00:43.520940Z",
     "iopub.status.busy": "2020-12-20T18:00:43.518991Z",
     "iopub.status.idle": "2020-12-20T18:00:43.521624Z",
     "shell.execute_reply": "2020-12-20T18:00:43.522109Z"
    },
    "papermill": {
     "duration": 28.044078,
     "end_time": "2020-12-20T18:00:43.522249",
     "exception": false,
     "start_time": "2020-12-20T18:00:15.478171",
     "status": "completed"
    },
    "tags": []
   },
   "outputs": [],
   "source": [
    "#не нужно, т.к. если указан валидационный сет, то лучшая модель сохраняется сама\n",
    "#model.save('Berta_1.pt')"
   ]
  },
  {
   "cell_type": "code",
   "execution_count": null,
   "metadata": {
    "execution": {
     "iopub.execute_input": "2020-12-20T18:01:39.907823Z",
     "iopub.status.busy": "2020-12-20T18:01:39.906913Z",
     "iopub.status.idle": "2020-12-20T18:01:40.047964Z",
     "shell.execute_reply": "2020-12-20T18:01:40.048557Z"
    },
    "papermill": {
     "duration": 28.627042,
     "end_time": "2020-12-20T18:01:40.048689",
     "exception": false,
     "start_time": "2020-12-20T18:01:11.421647",
     "status": "completed"
    },
    "tags": []
   },
   "outputs": [],
   "source": [
    "plt.plot(loss_history)\n",
    "plt.title('Loss')"
   ]
  },
  {
   "cell_type": "code",
   "execution_count": null,
   "metadata": {
    "execution": {
     "iopub.execute_input": "2020-12-20T18:02:36.165079Z",
     "iopub.status.busy": "2020-12-20T18:02:36.159810Z",
     "iopub.status.idle": "2020-12-20T18:02:36.317847Z",
     "shell.execute_reply": "2020-12-20T18:02:36.318397Z"
    },
    "papermill": {
     "duration": 28.621758,
     "end_time": "2020-12-20T18:02:36.318544",
     "exception": false,
     "start_time": "2020-12-20T18:02:07.696786",
     "status": "completed"
    },
    "tags": []
   },
   "outputs": [],
   "source": [
    "plt.plot(train_history, label='train', c='y')\n",
    "plt.plot(val_history, label='test', c='blue')\n",
    "plt.title('Learning curves')\n",
    "plt.legend();"
   ]
  },
  {
   "cell_type": "markdown",
   "metadata": {
    "papermill": {
     "duration": 28.848607,
     "end_time": "2020-12-20T18:03:32.755712",
     "exception": false,
     "start_time": "2020-12-20T18:03:03.907105",
     "status": "completed"
    },
    "tags": []
   },
   "source": [
    "# Сабмит"
   ]
  },
  {
   "cell_type": "code",
   "execution_count": 51,
   "metadata": {
    "execution": {
     "iopub.execute_input": "2020-12-20T18:04:28.185846Z",
     "iopub.status.busy": "2020-12-20T18:04:28.184936Z",
     "iopub.status.idle": "2020-12-20T18:04:28.187133Z",
     "shell.execute_reply": "2020-12-20T18:04:28.187663Z"
    },
    "papermill": {
     "duration": 27.938174,
     "end_time": "2020-12-20T18:04:28.187786",
     "exception": false,
     "start_time": "2020-12-20T18:04:00.249612",
     "status": "completed"
    },
    "tags": []
   },
   "outputs": [],
   "source": [
    "test_dataset = SiburPredictDataset(test,  tokenizer=tokenize)\n",
    "test_loader = torch.utils.data.DataLoader(test_dataset, batch_size=16)"
   ]
  },
  {
   "cell_type": "code",
   "execution_count": 52,
   "metadata": {
    "execution": {
     "iopub.execute_input": "2020-12-20T18:05:24.106647Z",
     "iopub.status.busy": "2020-12-20T18:05:24.105756Z",
     "iopub.status.idle": "2020-12-20T18:05:24.108805Z",
     "shell.execute_reply": "2020-12-20T18:05:24.108283Z"
    },
    "papermill": {
     "duration": 28.07472,
     "end_time": "2020-12-20T18:05:24.108917",
     "exception": false,
     "start_time": "2020-12-20T18:04:56.034197",
     "status": "completed"
    },
    "tags": []
   },
   "outputs": [],
   "source": [
    "# тест функции\n",
    "#preds = np.random.random(len(test))"
   ]
  },
  {
   "cell_type": "code",
   "execution_count": 53,
   "metadata": {
    "execution": {
     "iopub.execute_input": "2020-12-20T18:06:20.027862Z",
     "iopub.status.busy": "2020-12-20T18:06:20.027011Z",
     "iopub.status.idle": "2020-12-20T18:06:20.029541Z",
     "shell.execute_reply": "2020-12-20T18:06:20.029981Z"
    },
    "papermill": {
     "duration": 27.631786,
     "end_time": "2020-12-20T18:06:20.030136",
     "exception": false,
     "start_time": "2020-12-20T18:05:52.398350",
     "status": "completed"
    },
    "tags": []
   },
   "outputs": [],
   "source": [
    "#model.load('/kaggle/input/berta-weights-sibur/_best_model.pt')"
   ]
  },
  {
   "cell_type": "code",
   "execution_count": 54,
   "metadata": {
    "execution": {
     "iopub.execute_input": "2020-12-20T18:07:15.620098Z",
     "iopub.status.busy": "2020-12-20T18:07:15.619271Z",
     "iopub.status.idle": "2020-12-20T18:17:03.218008Z",
     "shell.execute_reply": "2020-12-20T18:17:03.219262Z"
    },
    "papermill": {
     "duration": 615.123651,
     "end_time": "2020-12-20T18:17:03.219449",
     "exception": false,
     "start_time": "2020-12-20T18:06:48.095798",
     "status": "completed"
    },
    "tags": []
   },
   "outputs": [
    {
     "name": "stderr",
     "output_type": "stream",
     "text": [
      "Prediction: 100%|██████████| 1667/1667 [09:47<00:00,  2.84it/s]\n"
     ]
    }
   ],
   "source": [
    "preds = model.predict(test_loader)"
   ]
  },
  {
   "cell_type": "code",
   "execution_count": 55,
   "metadata": {
    "execution": {
     "iopub.execute_input": "2020-12-20T18:18:01.811805Z",
     "iopub.status.busy": "2020-12-20T18:18:01.810955Z",
     "iopub.status.idle": "2020-12-20T18:18:01.814980Z",
     "shell.execute_reply": "2020-12-20T18:18:01.814480Z"
    },
    "papermill": {
     "duration": 29.05239,
     "end_time": "2020-12-20T18:18:01.815077",
     "exception": false,
     "start_time": "2020-12-20T18:17:32.762687",
     "status": "completed"
    },
    "tags": []
   },
   "outputs": [],
   "source": [
    "def submit(preds, threshold=0.5, filename='submit.csv', dataset=test):\n",
    "    labels = (preds > threshold).astype(int)\n",
    "    result = pd.DataFrame({'pair_id': dataset.index,\n",
    "                           'is_duplicate': labels})\n",
    "    print(f'Число положительных классов для threshold={threshold}: {result[\"is_duplicate\"].sum()} / {result[\"is_duplicate\"].mean():.2%}')\n",
    "    result.to_csv(filename, index=False)\n",
    "    print('Done!')\n",
    "    return result"
   ]
  },
  {
   "cell_type": "code",
   "execution_count": 56,
   "metadata": {
    "execution": {
     "iopub.execute_input": "2020-12-20T18:19:00.062700Z",
     "iopub.status.busy": "2020-12-20T18:19:00.062049Z",
     "iopub.status.idle": "2020-12-20T18:19:03.783005Z",
     "shell.execute_reply": "2020-12-20T18:19:03.783690Z"
    },
    "papermill": {
     "duration": 32.637397,
     "end_time": "2020-12-20T18:19:03.783841",
     "exception": false,
     "start_time": "2020-12-20T18:18:31.146444",
     "status": "completed"
    },
    "tags": []
   },
   "outputs": [
    {
     "name": "stdout",
     "output_type": "stream",
     "text": [
      "Число положительных классов для threshold=0.1: 1141 / 0.54%\n",
      "Done!\n",
      "Число положительных классов для threshold=0.2: 987 / 0.46%\n",
      "Done!\n",
      "Число положительных классов для threshold=0.3: 834 / 0.39%\n",
      "Done!\n",
      "Число положительных классов для threshold=0.4: 691 / 0.32%\n",
      "Done!\n",
      "Число положительных классов для threshold=0.5: 576 / 0.27%\n",
      "Done!\n",
      "Число положительных классов для threshold=0.6: 486 / 0.23%\n",
      "Done!\n",
      "Число положительных классов для threshold=0.7: 361 / 0.17%\n",
      "Done!\n",
      "Число положительных классов для threshold=0.8: 260 / 0.12%\n",
      "Done!\n",
      "Число положительных классов для threshold=0.9: 154 / 0.07%\n",
      "Done!\n"
     ]
    }
   ],
   "source": [
    "for thr in [0.1, 0.2, 0.3, 0.4, 0.5, 0.6, 0.7, 0.8, 0.9]:\n",
    "    filename = f'submit_{thr}.csv'\n",
    "    submit(preds, threshold=thr, filename=filename)"
   ]
  },
  {
   "cell_type": "code",
   "execution_count": null,
   "metadata": {
    "papermill": {
     "duration": 28.631822,
     "end_time": "2020-12-20T18:20:02.171071",
     "exception": false,
     "start_time": "2020-12-20T18:19:33.539249",
     "status": "completed"
    },
    "tags": []
   },
   "outputs": [],
   "source": []
  }
 ],
 "metadata": {
  "kernelspec": {
   "display_name": "Python 3",
   "language": "python",
   "name": "python3"
  },
  "language_info": {
   "codemirror_mode": {
    "name": "ipython",
    "version": 3
   },
   "file_extension": ".py",
   "mimetype": "text/x-python",
   "name": "python",
   "nbconvert_exporter": "python",
   "pygments_lexer": "ipython3",
   "version": "3.8.3"
  },
  "papermill": {
   "duration": 30522.917619,
   "end_time": "2020-12-20T18:20:32.934681",
   "environment_variables": {},
   "exception": null,
   "input_path": "__notebook__.ipynb",
   "output_path": "__notebook__.ipynb",
   "parameters": {},
   "start_time": "2020-12-20T09:51:50.017062",
   "version": "2.1.0"
  },
  "widgets": {
   "application/vnd.jupyter.widget-state+json": {
    "state": {
     "377854bd1f7247d28d1a0df499fae8c7": {
      "model_module": "@jupyter-widgets/base",
      "model_module_version": "1.2.0",
      "model_name": "LayoutModel",
      "state": {
       "_model_module": "@jupyter-widgets/base",
       "_model_module_version": "1.2.0",
       "_model_name": "LayoutModel",
       "_view_count": null,
       "_view_module": "@jupyter-widgets/base",
       "_view_module_version": "1.2.0",
       "_view_name": "LayoutView",
       "align_content": null,
       "align_items": null,
       "align_self": null,
       "border": null,
       "bottom": null,
       "display": null,
       "flex": null,
       "flex_flow": null,
       "grid_area": null,
       "grid_auto_columns": null,
       "grid_auto_flow": null,
       "grid_auto_rows": null,
       "grid_column": null,
       "grid_gap": null,
       "grid_row": null,
       "grid_template_areas": null,
       "grid_template_columns": null,
       "grid_template_rows": null,
       "height": null,
       "justify_content": null,
       "justify_items": null,
       "left": null,
       "margin": null,
       "max_height": null,
       "max_width": null,
       "min_height": null,
       "min_width": null,
       "object_fit": null,
       "object_position": null,
       "order": null,
       "overflow": null,
       "overflow_x": null,
       "overflow_y": null,
       "padding": null,
       "right": null,
       "top": null,
       "visibility": null,
       "width": null
      }
     },
     "38586eaf79ae4867bf1186b85237bf30": {
      "model_module": "@jupyter-widgets/base",
      "model_module_version": "1.2.0",
      "model_name": "LayoutModel",
      "state": {
       "_model_module": "@jupyter-widgets/base",
       "_model_module_version": "1.2.0",
       "_model_name": "LayoutModel",
       "_view_count": null,
       "_view_module": "@jupyter-widgets/base",
       "_view_module_version": "1.2.0",
       "_view_name": "LayoutView",
       "align_content": null,
       "align_items": null,
       "align_self": null,
       "border": null,
       "bottom": null,
       "display": null,
       "flex": null,
       "flex_flow": null,
       "grid_area": null,
       "grid_auto_columns": null,
       "grid_auto_flow": null,
       "grid_auto_rows": null,
       "grid_column": null,
       "grid_gap": null,
       "grid_row": null,
       "grid_template_areas": null,
       "grid_template_columns": null,
       "grid_template_rows": null,
       "height": null,
       "justify_content": null,
       "justify_items": null,
       "left": null,
       "margin": null,
       "max_height": null,
       "max_width": null,
       "min_height": null,
       "min_width": null,
       "object_fit": null,
       "object_position": null,
       "order": null,
       "overflow": null,
       "overflow_x": null,
       "overflow_y": null,
       "padding": null,
       "right": null,
       "top": null,
       "visibility": null,
       "width": null
      }
     },
     "3bdbd322f2da4be4a3713dda18e27d16": {
      "model_module": "@jupyter-widgets/controls",
      "model_module_version": "1.5.0",
      "model_name": "DescriptionStyleModel",
      "state": {
       "_model_module": "@jupyter-widgets/controls",
       "_model_module_version": "1.5.0",
       "_model_name": "DescriptionStyleModel",
       "_view_count": null,
       "_view_module": "@jupyter-widgets/base",
       "_view_module_version": "1.2.0",
       "_view_name": "StyleView",
       "description_width": ""
      }
     },
     "47fffa81a3254b6b9050f30400f64dc4": {
      "model_module": "@jupyter-widgets/base",
      "model_module_version": "1.2.0",
      "model_name": "LayoutModel",
      "state": {
       "_model_module": "@jupyter-widgets/base",
       "_model_module_version": "1.2.0",
       "_model_name": "LayoutModel",
       "_view_count": null,
       "_view_module": "@jupyter-widgets/base",
       "_view_module_version": "1.2.0",
       "_view_name": "LayoutView",
       "align_content": null,
       "align_items": null,
       "align_self": null,
       "border": null,
       "bottom": null,
       "display": null,
       "flex": null,
       "flex_flow": null,
       "grid_area": null,
       "grid_auto_columns": null,
       "grid_auto_flow": null,
       "grid_auto_rows": null,
       "grid_column": null,
       "grid_gap": null,
       "grid_row": null,
       "grid_template_areas": null,
       "grid_template_columns": null,
       "grid_template_rows": null,
       "height": null,
       "justify_content": null,
       "justify_items": null,
       "left": null,
       "margin": null,
       "max_height": null,
       "max_width": null,
       "min_height": null,
       "min_width": null,
       "object_fit": null,
       "object_position": null,
       "order": null,
       "overflow": null,
       "overflow_x": null,
       "overflow_y": null,
       "padding": null,
       "right": null,
       "top": null,
       "visibility": null,
       "width": null
      }
     },
     "4c5aa3a4bef34a008fb2c91e317964aa": {
      "model_module": "@jupyter-widgets/controls",
      "model_module_version": "1.5.0",
      "model_name": "DescriptionStyleModel",
      "state": {
       "_model_module": "@jupyter-widgets/controls",
       "_model_module_version": "1.5.0",
       "_model_name": "DescriptionStyleModel",
       "_view_count": null,
       "_view_module": "@jupyter-widgets/base",
       "_view_module_version": "1.2.0",
       "_view_name": "StyleView",
       "description_width": ""
      }
     },
     "6a26259bc6914d0885ec8412026df300": {
      "model_module": "@jupyter-widgets/base",
      "model_module_version": "1.2.0",
      "model_name": "LayoutModel",
      "state": {
       "_model_module": "@jupyter-widgets/base",
       "_model_module_version": "1.2.0",
       "_model_name": "LayoutModel",
       "_view_count": null,
       "_view_module": "@jupyter-widgets/base",
       "_view_module_version": "1.2.0",
       "_view_name": "LayoutView",
       "align_content": null,
       "align_items": null,
       "align_self": null,
       "border": null,
       "bottom": null,
       "display": null,
       "flex": null,
       "flex_flow": null,
       "grid_area": null,
       "grid_auto_columns": null,
       "grid_auto_flow": null,
       "grid_auto_rows": null,
       "grid_column": null,
       "grid_gap": null,
       "grid_row": null,
       "grid_template_areas": null,
       "grid_template_columns": null,
       "grid_template_rows": null,
       "height": null,
       "justify_content": null,
       "justify_items": null,
       "left": null,
       "margin": null,
       "max_height": null,
       "max_width": null,
       "min_height": null,
       "min_width": null,
       "object_fit": null,
       "object_position": null,
       "order": null,
       "overflow": null,
       "overflow_x": null,
       "overflow_y": null,
       "padding": null,
       "right": null,
       "top": null,
       "visibility": null,
       "width": null
      }
     },
     "6a7e7a6fada0456897343a2467dbc435": {
      "model_module": "@jupyter-widgets/controls",
      "model_module_version": "1.5.0",
      "model_name": "HTMLModel",
      "state": {
       "_dom_classes": [],
       "_model_module": "@jupyter-widgets/controls",
       "_model_module_version": "1.5.0",
       "_model_name": "HTMLModel",
       "_view_count": null,
       "_view_module": "@jupyter-widgets/controls",
       "_view_module_version": "1.5.0",
       "_view_name": "HTMLView",
       "description": "",
       "description_tooltip": null,
       "layout": "IPY_MODEL_fb14a03a154b44d6a3d6daa1b751f3f1",
       "placeholder": "​",
       "style": "IPY_MODEL_d6338322845c44d284828b19d0c62d97",
       "value": " 625/625 [00:00&lt;00:00, 733B/s]"
      }
     },
     "7318e00b370d4c1eb7cbeefe7688d264": {
      "model_module": "@jupyter-widgets/controls",
      "model_module_version": "1.5.0",
      "model_name": "FloatProgressModel",
      "state": {
       "_dom_classes": [],
       "_model_module": "@jupyter-widgets/controls",
       "_model_module_version": "1.5.0",
       "_model_name": "FloatProgressModel",
       "_view_count": null,
       "_view_module": "@jupyter-widgets/controls",
       "_view_module_version": "1.5.0",
       "_view_name": "ProgressView",
       "bar_style": "success",
       "description": "Downloading: 100%",
       "description_tooltip": null,
       "layout": "IPY_MODEL_9491e5f447684bd8be69a3440ba273d8",
       "max": 625,
       "min": 0,
       "orientation": "horizontal",
       "style": "IPY_MODEL_b8db6e5800c84786a94bf931fa0d9592",
       "value": 625
      }
     },
     "73377285fbef49719946a3560e0c4b2b": {
      "model_module": "@jupyter-widgets/base",
      "model_module_version": "1.2.0",
      "model_name": "LayoutModel",
      "state": {
       "_model_module": "@jupyter-widgets/base",
       "_model_module_version": "1.2.0",
       "_model_name": "LayoutModel",
       "_view_count": null,
       "_view_module": "@jupyter-widgets/base",
       "_view_module_version": "1.2.0",
       "_view_name": "LayoutView",
       "align_content": null,
       "align_items": null,
       "align_self": null,
       "border": null,
       "bottom": null,
       "display": null,
       "flex": null,
       "flex_flow": null,
       "grid_area": null,
       "grid_auto_columns": null,
       "grid_auto_flow": null,
       "grid_auto_rows": null,
       "grid_column": null,
       "grid_gap": null,
       "grid_row": null,
       "grid_template_areas": null,
       "grid_template_columns": null,
       "grid_template_rows": null,
       "height": null,
       "justify_content": null,
       "justify_items": null,
       "left": null,
       "margin": null,
       "max_height": null,
       "max_width": null,
       "min_height": null,
       "min_width": null,
       "object_fit": null,
       "object_position": null,
       "order": null,
       "overflow": null,
       "overflow_x": null,
       "overflow_y": null,
       "padding": null,
       "right": null,
       "top": null,
       "visibility": null,
       "width": null
      }
     },
     "87f1e08e98d345dca03da80ba8c0321e": {
      "model_module": "@jupyter-widgets/controls",
      "model_module_version": "1.5.0",
      "model_name": "FloatProgressModel",
      "state": {
       "_dom_classes": [],
       "_model_module": "@jupyter-widgets/controls",
       "_model_module_version": "1.5.0",
       "_model_name": "FloatProgressModel",
       "_view_count": null,
       "_view_module": "@jupyter-widgets/controls",
       "_view_module_version": "1.5.0",
       "_view_name": "ProgressView",
       "bar_style": "success",
       "description": "Downloading: 100%",
       "description_tooltip": null,
       "layout": "IPY_MODEL_6a26259bc6914d0885ec8412026df300",
       "max": 871891,
       "min": 0,
       "orientation": "horizontal",
       "style": "IPY_MODEL_8bf3bb53a2bb40efa9bb0d5bbe3270e5",
       "value": 871891
      }
     },
     "8885e33d7e64475fade91d14b1d7a893": {
      "model_module": "@jupyter-widgets/controls",
      "model_module_version": "1.5.0",
      "model_name": "HBoxModel",
      "state": {
       "_dom_classes": [],
       "_model_module": "@jupyter-widgets/controls",
       "_model_module_version": "1.5.0",
       "_model_name": "HBoxModel",
       "_view_count": null,
       "_view_module": "@jupyter-widgets/controls",
       "_view_module_version": "1.5.0",
       "_view_name": "HBoxView",
       "box_style": "",
       "children": [
        "IPY_MODEL_b82b080b41484958a6ca674ccfad8342",
        "IPY_MODEL_932f6e9126f048caba7831fcae8058ea"
       ],
       "layout": "IPY_MODEL_a43d9919039440549878c035e644f1b0"
      }
     },
     "8bf3bb53a2bb40efa9bb0d5bbe3270e5": {
      "model_module": "@jupyter-widgets/controls",
      "model_module_version": "1.5.0",
      "model_name": "ProgressStyleModel",
      "state": {
       "_model_module": "@jupyter-widgets/controls",
       "_model_module_version": "1.5.0",
       "_model_name": "ProgressStyleModel",
       "_view_count": null,
       "_view_module": "@jupyter-widgets/base",
       "_view_module_version": "1.2.0",
       "_view_name": "StyleView",
       "bar_color": null,
       "description_width": "initial"
      }
     },
     "8ed8360bfc934d88932a4a78f68510cd": {
      "model_module": "@jupyter-widgets/controls",
      "model_module_version": "1.5.0",
      "model_name": "HBoxModel",
      "state": {
       "_dom_classes": [],
       "_model_module": "@jupyter-widgets/controls",
       "_model_module_version": "1.5.0",
       "_model_name": "HBoxModel",
       "_view_count": null,
       "_view_module": "@jupyter-widgets/controls",
       "_view_module_version": "1.5.0",
       "_view_name": "HBoxView",
       "box_style": "",
       "children": [
        "IPY_MODEL_87f1e08e98d345dca03da80ba8c0321e",
        "IPY_MODEL_d8ab43eaa6b7477d88b6985002f7c5af"
       ],
       "layout": "IPY_MODEL_38586eaf79ae4867bf1186b85237bf30"
      }
     },
     "932f6e9126f048caba7831fcae8058ea": {
      "model_module": "@jupyter-widgets/controls",
      "model_module_version": "1.5.0",
      "model_name": "HTMLModel",
      "state": {
       "_dom_classes": [],
       "_model_module": "@jupyter-widgets/controls",
       "_model_module_version": "1.5.0",
       "_model_name": "HTMLModel",
       "_view_count": null,
       "_view_module": "@jupyter-widgets/controls",
       "_view_module_version": "1.5.0",
       "_view_name": "HTMLView",
       "description": "",
       "description_tooltip": null,
       "layout": "IPY_MODEL_a2ebd177ff1443d5ad0308cbfe33b711",
       "placeholder": "​",
       "style": "IPY_MODEL_3bdbd322f2da4be4a3713dda18e27d16",
       "value": " 672M/672M [00:24&lt;00:00, 27.4MB/s]"
      }
     },
     "9491e5f447684bd8be69a3440ba273d8": {
      "model_module": "@jupyter-widgets/base",
      "model_module_version": "1.2.0",
      "model_name": "LayoutModel",
      "state": {
       "_model_module": "@jupyter-widgets/base",
       "_model_module_version": "1.2.0",
       "_model_name": "LayoutModel",
       "_view_count": null,
       "_view_module": "@jupyter-widgets/base",
       "_view_module_version": "1.2.0",
       "_view_name": "LayoutView",
       "align_content": null,
       "align_items": null,
       "align_self": null,
       "border": null,
       "bottom": null,
       "display": null,
       "flex": null,
       "flex_flow": null,
       "grid_area": null,
       "grid_auto_columns": null,
       "grid_auto_flow": null,
       "grid_auto_rows": null,
       "grid_column": null,
       "grid_gap": null,
       "grid_row": null,
       "grid_template_areas": null,
       "grid_template_columns": null,
       "grid_template_rows": null,
       "height": null,
       "justify_content": null,
       "justify_items": null,
       "left": null,
       "margin": null,
       "max_height": null,
       "max_width": null,
       "min_height": null,
       "min_width": null,
       "object_fit": null,
       "object_position": null,
       "order": null,
       "overflow": null,
       "overflow_x": null,
       "overflow_y": null,
       "padding": null,
       "right": null,
       "top": null,
       "visibility": null,
       "width": null
      }
     },
     "9ded1b09359c4933a9b4c162c43abc96": {
      "model_module": "@jupyter-widgets/controls",
      "model_module_version": "1.5.0",
      "model_name": "ProgressStyleModel",
      "state": {
       "_model_module": "@jupyter-widgets/controls",
       "_model_module_version": "1.5.0",
       "_model_name": "ProgressStyleModel",
       "_view_count": null,
       "_view_module": "@jupyter-widgets/base",
       "_view_module_version": "1.2.0",
       "_view_name": "StyleView",
       "bar_color": null,
       "description_width": "initial"
      }
     },
     "a2ebd177ff1443d5ad0308cbfe33b711": {
      "model_module": "@jupyter-widgets/base",
      "model_module_version": "1.2.0",
      "model_name": "LayoutModel",
      "state": {
       "_model_module": "@jupyter-widgets/base",
       "_model_module_version": "1.2.0",
       "_model_name": "LayoutModel",
       "_view_count": null,
       "_view_module": "@jupyter-widgets/base",
       "_view_module_version": "1.2.0",
       "_view_name": "LayoutView",
       "align_content": null,
       "align_items": null,
       "align_self": null,
       "border": null,
       "bottom": null,
       "display": null,
       "flex": null,
       "flex_flow": null,
       "grid_area": null,
       "grid_auto_columns": null,
       "grid_auto_flow": null,
       "grid_auto_rows": null,
       "grid_column": null,
       "grid_gap": null,
       "grid_row": null,
       "grid_template_areas": null,
       "grid_template_columns": null,
       "grid_template_rows": null,
       "height": null,
       "justify_content": null,
       "justify_items": null,
       "left": null,
       "margin": null,
       "max_height": null,
       "max_width": null,
       "min_height": null,
       "min_width": null,
       "object_fit": null,
       "object_position": null,
       "order": null,
       "overflow": null,
       "overflow_x": null,
       "overflow_y": null,
       "padding": null,
       "right": null,
       "top": null,
       "visibility": null,
       "width": null
      }
     },
     "a43d9919039440549878c035e644f1b0": {
      "model_module": "@jupyter-widgets/base",
      "model_module_version": "1.2.0",
      "model_name": "LayoutModel",
      "state": {
       "_model_module": "@jupyter-widgets/base",
       "_model_module_version": "1.2.0",
       "_model_name": "LayoutModel",
       "_view_count": null,
       "_view_module": "@jupyter-widgets/base",
       "_view_module_version": "1.2.0",
       "_view_name": "LayoutView",
       "align_content": null,
       "align_items": null,
       "align_self": null,
       "border": null,
       "bottom": null,
       "display": null,
       "flex": null,
       "flex_flow": null,
       "grid_area": null,
       "grid_auto_columns": null,
       "grid_auto_flow": null,
       "grid_auto_rows": null,
       "grid_column": null,
       "grid_gap": null,
       "grid_row": null,
       "grid_template_areas": null,
       "grid_template_columns": null,
       "grid_template_rows": null,
       "height": null,
       "justify_content": null,
       "justify_items": null,
       "left": null,
       "margin": null,
       "max_height": null,
       "max_width": null,
       "min_height": null,
       "min_width": null,
       "object_fit": null,
       "object_position": null,
       "order": null,
       "overflow": null,
       "overflow_x": null,
       "overflow_y": null,
       "padding": null,
       "right": null,
       "top": null,
       "visibility": null,
       "width": null
      }
     },
     "b82b080b41484958a6ca674ccfad8342": {
      "model_module": "@jupyter-widgets/controls",
      "model_module_version": "1.5.0",
      "model_name": "FloatProgressModel",
      "state": {
       "_dom_classes": [],
       "_model_module": "@jupyter-widgets/controls",
       "_model_module_version": "1.5.0",
       "_model_name": "FloatProgressModel",
       "_view_count": null,
       "_view_module": "@jupyter-widgets/controls",
       "_view_module_version": "1.5.0",
       "_view_name": "ProgressView",
       "bar_style": "success",
       "description": "Downloading: 100%",
       "description_tooltip": null,
       "layout": "IPY_MODEL_73377285fbef49719946a3560e0c4b2b",
       "max": 672271273,
       "min": 0,
       "orientation": "horizontal",
       "style": "IPY_MODEL_9ded1b09359c4933a9b4c162c43abc96",
       "value": 672271273
      }
     },
     "b8db6e5800c84786a94bf931fa0d9592": {
      "model_module": "@jupyter-widgets/controls",
      "model_module_version": "1.5.0",
      "model_name": "ProgressStyleModel",
      "state": {
       "_model_module": "@jupyter-widgets/controls",
       "_model_module_version": "1.5.0",
       "_model_name": "ProgressStyleModel",
       "_view_count": null,
       "_view_module": "@jupyter-widgets/base",
       "_view_module_version": "1.2.0",
       "_view_name": "StyleView",
       "bar_color": null,
       "description_width": "initial"
      }
     },
     "d6338322845c44d284828b19d0c62d97": {
      "model_module": "@jupyter-widgets/controls",
      "model_module_version": "1.5.0",
      "model_name": "DescriptionStyleModel",
      "state": {
       "_model_module": "@jupyter-widgets/controls",
       "_model_module_version": "1.5.0",
       "_model_name": "DescriptionStyleModel",
       "_view_count": null,
       "_view_module": "@jupyter-widgets/base",
       "_view_module_version": "1.2.0",
       "_view_name": "StyleView",
       "description_width": ""
      }
     },
     "d8ab43eaa6b7477d88b6985002f7c5af": {
      "model_module": "@jupyter-widgets/controls",
      "model_module_version": "1.5.0",
      "model_name": "HTMLModel",
      "state": {
       "_dom_classes": [],
       "_model_module": "@jupyter-widgets/controls",
       "_model_module_version": "1.5.0",
       "_model_name": "HTMLModel",
       "_view_count": null,
       "_view_module": "@jupyter-widgets/controls",
       "_view_module_version": "1.5.0",
       "_view_name": "HTMLView",
       "description": "",
       "description_tooltip": null,
       "layout": "IPY_MODEL_377854bd1f7247d28d1a0df499fae8c7",
       "placeholder": "​",
       "style": "IPY_MODEL_4c5aa3a4bef34a008fb2c91e317964aa",
       "value": " 872k/872k [00:00&lt;00:00, 2.52MB/s]"
      }
     },
     "e28c20472bf6411a99741defc4d836dd": {
      "model_module": "@jupyter-widgets/controls",
      "model_module_version": "1.5.0",
      "model_name": "HBoxModel",
      "state": {
       "_dom_classes": [],
       "_model_module": "@jupyter-widgets/controls",
       "_model_module_version": "1.5.0",
       "_model_name": "HBoxModel",
       "_view_count": null,
       "_view_module": "@jupyter-widgets/controls",
       "_view_module_version": "1.5.0",
       "_view_name": "HBoxView",
       "box_style": "",
       "children": [
        "IPY_MODEL_7318e00b370d4c1eb7cbeefe7688d264",
        "IPY_MODEL_6a7e7a6fada0456897343a2467dbc435"
       ],
       "layout": "IPY_MODEL_47fffa81a3254b6b9050f30400f64dc4"
      }
     },
     "fb14a03a154b44d6a3d6daa1b751f3f1": {
      "model_module": "@jupyter-widgets/base",
      "model_module_version": "1.2.0",
      "model_name": "LayoutModel",
      "state": {
       "_model_module": "@jupyter-widgets/base",
       "_model_module_version": "1.2.0",
       "_model_name": "LayoutModel",
       "_view_count": null,
       "_view_module": "@jupyter-widgets/base",
       "_view_module_version": "1.2.0",
       "_view_name": "LayoutView",
       "align_content": null,
       "align_items": null,
       "align_self": null,
       "border": null,
       "bottom": null,
       "display": null,
       "flex": null,
       "flex_flow": null,
       "grid_area": null,
       "grid_auto_columns": null,
       "grid_auto_flow": null,
       "grid_auto_rows": null,
       "grid_column": null,
       "grid_gap": null,
       "grid_row": null,
       "grid_template_areas": null,
       "grid_template_columns": null,
       "grid_template_rows": null,
       "height": null,
       "justify_content": null,
       "justify_items": null,
       "left": null,
       "margin": null,
       "max_height": null,
       "max_width": null,
       "min_height": null,
       "min_width": null,
       "object_fit": null,
       "object_position": null,
       "order": null,
       "overflow": null,
       "overflow_x": null,
       "overflow_y": null,
       "padding": null,
       "right": null,
       "top": null,
       "visibility": null,
       "width": null
      }
     }
    },
    "version_major": 2,
    "version_minor": 0
   }
  }
 },
 "nbformat": 4,
 "nbformat_minor": 4
}
